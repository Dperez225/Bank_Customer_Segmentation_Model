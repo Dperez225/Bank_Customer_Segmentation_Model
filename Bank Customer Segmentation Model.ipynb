{
 "cells": [
  {
   "cell_type": "markdown",
   "id": "b683fa31",
   "metadata": {},
   "source": [
    "# Bank Customer Segmentation Model"
   ]
  },
  {
   "cell_type": "markdown",
   "id": "ec21aab4",
   "metadata": {},
   "source": [
    "## Import Modules and Data"
   ]
  },
  {
   "cell_type": "code",
   "execution_count": 1,
   "id": "a66e0ddc",
   "metadata": {},
   "outputs": [],
   "source": [
    "import numpy as np\n",
    "import pandas as pd\n",
    "import matplotlib.pyplot as plt\n",
    "import seaborn as sns\n",
    "import warnings\n",
    "from dateutil.relativedelta import relativedelta\n",
    "from datetime import date   \n",
    "from tqdm import tqdm\n",
    "from scipy import stats\n",
    "from sklearn.preprocessing import StandardScaler\n",
    "from sklearn.cluster import KMeans\n",
    "from sklearn.metrics import silhouette_score\n",
    "sns.set_style('whitegrid')\n",
    "%matplotlib inline\n",
    "warnings.filterwarnings('ignore')"
   ]
  },
  {
   "cell_type": "code",
   "execution_count": 2,
   "id": "d2d5f66b",
   "metadata": {},
   "outputs": [],
   "source": [
    "df = pd.read_csv(\"C:/Users/dp846/OneDrive/Documents/bank_transactions.csv\")"
   ]
  },
  {
   "cell_type": "markdown",
   "id": "fcce006a",
   "metadata": {},
   "source": [
    "## Exploratory Data Analysis"
   ]
  },
  {
   "cell_type": "code",
   "execution_count": 3,
   "id": "3abfd3fd",
   "metadata": {},
   "outputs": [
    {
     "data": {
      "text/html": [
       "<div>\n",
       "<style scoped>\n",
       "    .dataframe tbody tr th:only-of-type {\n",
       "        vertical-align: middle;\n",
       "    }\n",
       "\n",
       "    .dataframe tbody tr th {\n",
       "        vertical-align: top;\n",
       "    }\n",
       "\n",
       "    .dataframe thead th {\n",
       "        text-align: right;\n",
       "    }\n",
       "</style>\n",
       "<table border=\"1\" class=\"dataframe\">\n",
       "  <thead>\n",
       "    <tr style=\"text-align: right;\">\n",
       "      <th></th>\n",
       "      <th>TransactionID</th>\n",
       "      <th>CustomerID</th>\n",
       "      <th>CustomerDOB</th>\n",
       "      <th>CustGender</th>\n",
       "      <th>CustLocation</th>\n",
       "      <th>CustAccountBalance</th>\n",
       "      <th>TransactionDate</th>\n",
       "      <th>TransactionTime</th>\n",
       "      <th>TransactionAmount (INR)</th>\n",
       "    </tr>\n",
       "  </thead>\n",
       "  <tbody>\n",
       "    <tr>\n",
       "      <th>0</th>\n",
       "      <td>T1</td>\n",
       "      <td>C5841053</td>\n",
       "      <td>10/1/94</td>\n",
       "      <td>F</td>\n",
       "      <td>JAMSHEDPUR</td>\n",
       "      <td>17819.05</td>\n",
       "      <td>2/8/16</td>\n",
       "      <td>143207</td>\n",
       "      <td>25.0</td>\n",
       "    </tr>\n",
       "    <tr>\n",
       "      <th>1</th>\n",
       "      <td>T2</td>\n",
       "      <td>C2142763</td>\n",
       "      <td>4/4/57</td>\n",
       "      <td>M</td>\n",
       "      <td>JHAJJAR</td>\n",
       "      <td>2270.69</td>\n",
       "      <td>2/8/16</td>\n",
       "      <td>141858</td>\n",
       "      <td>27999.0</td>\n",
       "    </tr>\n",
       "    <tr>\n",
       "      <th>2</th>\n",
       "      <td>T3</td>\n",
       "      <td>C4417068</td>\n",
       "      <td>26/11/96</td>\n",
       "      <td>F</td>\n",
       "      <td>MUMBAI</td>\n",
       "      <td>17874.44</td>\n",
       "      <td>2/8/16</td>\n",
       "      <td>142712</td>\n",
       "      <td>459.0</td>\n",
       "    </tr>\n",
       "    <tr>\n",
       "      <th>3</th>\n",
       "      <td>T4</td>\n",
       "      <td>C5342380</td>\n",
       "      <td>14/9/73</td>\n",
       "      <td>F</td>\n",
       "      <td>MUMBAI</td>\n",
       "      <td>866503.21</td>\n",
       "      <td>2/8/16</td>\n",
       "      <td>142714</td>\n",
       "      <td>2060.0</td>\n",
       "    </tr>\n",
       "    <tr>\n",
       "      <th>4</th>\n",
       "      <td>T5</td>\n",
       "      <td>C9031234</td>\n",
       "      <td>24/3/88</td>\n",
       "      <td>F</td>\n",
       "      <td>NAVI MUMBAI</td>\n",
       "      <td>6714.43</td>\n",
       "      <td>2/8/16</td>\n",
       "      <td>181156</td>\n",
       "      <td>1762.5</td>\n",
       "    </tr>\n",
       "  </tbody>\n",
       "</table>\n",
       "</div>"
      ],
      "text/plain": [
       "  TransactionID CustomerID CustomerDOB CustGender CustLocation  \\\n",
       "0            T1   C5841053     10/1/94          F   JAMSHEDPUR   \n",
       "1            T2   C2142763      4/4/57          M      JHAJJAR   \n",
       "2            T3   C4417068    26/11/96          F       MUMBAI   \n",
       "3            T4   C5342380     14/9/73          F       MUMBAI   \n",
       "4            T5   C9031234     24/3/88          F  NAVI MUMBAI   \n",
       "\n",
       "   CustAccountBalance TransactionDate  TransactionTime  \\\n",
       "0            17819.05          2/8/16           143207   \n",
       "1             2270.69          2/8/16           141858   \n",
       "2            17874.44          2/8/16           142712   \n",
       "3           866503.21          2/8/16           142714   \n",
       "4             6714.43          2/8/16           181156   \n",
       "\n",
       "   TransactionAmount (INR)  \n",
       "0                     25.0  \n",
       "1                  27999.0  \n",
       "2                    459.0  \n",
       "3                   2060.0  \n",
       "4                   1762.5  "
      ]
     },
     "execution_count": 3,
     "metadata": {},
     "output_type": "execute_result"
    }
   ],
   "source": [
    "df.head()"
   ]
  },
  {
   "cell_type": "code",
   "execution_count": 4,
   "id": "35dcc145",
   "metadata": {},
   "outputs": [
    {
     "name": "stdout",
     "output_type": "stream",
     "text": [
      "<class 'pandas.core.frame.DataFrame'>\n",
      "RangeIndex: 1048567 entries, 0 to 1048566\n",
      "Data columns (total 9 columns):\n",
      " #   Column                   Non-Null Count    Dtype  \n",
      "---  ------                   --------------    -----  \n",
      " 0   TransactionID            1048567 non-null  object \n",
      " 1   CustomerID               1048567 non-null  object \n",
      " 2   CustomerDOB              1045170 non-null  object \n",
      " 3   CustGender               1047467 non-null  object \n",
      " 4   CustLocation             1048416 non-null  object \n",
      " 5   CustAccountBalance       1046198 non-null  float64\n",
      " 6   TransactionDate          1048567 non-null  object \n",
      " 7   TransactionTime          1048567 non-null  int64  \n",
      " 8   TransactionAmount (INR)  1048567 non-null  float64\n",
      "dtypes: float64(2), int64(1), object(6)\n",
      "memory usage: 72.0+ MB\n"
     ]
    }
   ],
   "source": [
    "df.info()"
   ]
  },
  {
   "cell_type": "code",
   "execution_count": 5,
   "id": "85ef7e16",
   "metadata": {},
   "outputs": [
    {
     "data": {
      "text/plain": [
       "TransactionID                 0\n",
       "CustomerID                    0\n",
       "CustomerDOB                3397\n",
       "CustGender                 1100\n",
       "CustLocation                151\n",
       "CustAccountBalance         2369\n",
       "TransactionDate               0\n",
       "TransactionTime               0\n",
       "TransactionAmount (INR)       0\n",
       "dtype: int64"
      ]
     },
     "execution_count": 5,
     "metadata": {},
     "output_type": "execute_result"
    }
   ],
   "source": [
    "df.isnull().sum()"
   ]
  },
  {
   "cell_type": "markdown",
   "id": "26d9a084",
   "metadata": {},
   "source": [
    "There are a good number of null values in the dataset. This can be resolved by simply dropping these values from the dataset."
   ]
  },
  {
   "cell_type": "code",
   "execution_count": 6,
   "id": "0e188f3b",
   "metadata": {},
   "outputs": [],
   "source": [
    "df.dropna(inplace = True)\n",
    "df.reset_index(drop=True, inplace=True)"
   ]
  },
  {
   "cell_type": "code",
   "execution_count": 7,
   "id": "4623aa5a",
   "metadata": {},
   "outputs": [
    {
     "data": {
      "text/plain": [
       "TransactionID              0\n",
       "CustomerID                 0\n",
       "CustomerDOB                0\n",
       "CustGender                 0\n",
       "CustLocation               0\n",
       "CustAccountBalance         0\n",
       "TransactionDate            0\n",
       "TransactionTime            0\n",
       "TransactionAmount (INR)    0\n",
       "dtype: int64"
      ]
     },
     "execution_count": 7,
     "metadata": {},
     "output_type": "execute_result"
    }
   ],
   "source": [
    "df.isnull().sum()"
   ]
  },
  {
   "cell_type": "code",
   "execution_count": 8,
   "id": "970141c6",
   "metadata": {},
   "outputs": [
    {
     "data": {
      "text/plain": [
       "TransactionID              1041614\n",
       "CustomerID                  879358\n",
       "CustomerDOB                  17233\n",
       "CustGender                       3\n",
       "CustLocation                  9275\n",
       "CustAccountBalance          160723\n",
       "TransactionDate                 55\n",
       "TransactionTime              81855\n",
       "TransactionAmount (INR)      92391\n",
       "dtype: int64"
      ]
     },
     "execution_count": 8,
     "metadata": {},
     "output_type": "execute_result"
    }
   ],
   "source": [
    "df.nunique()"
   ]
  },
  {
   "cell_type": "markdown",
   "id": "ff1fd87a",
   "metadata": {},
   "source": [
    "Seeing that there are 3 unique values in the CustGender column, some further analysis needs to be made to determine whether or not this third gender needs to remain in the dataset."
   ]
  },
  {
   "cell_type": "code",
   "execution_count": 9,
   "id": "f8f8a058",
   "metadata": {},
   "outputs": [
    {
     "data": {
      "text/plain": [
       "M    760978\n",
       "F    280635\n",
       "T         1\n",
       "Name: CustGender, dtype: int64"
      ]
     },
     "execution_count": 9,
     "metadata": {},
     "output_type": "execute_result"
    }
   ],
   "source": [
    "df['CustGender'].value_counts()"
   ]
  },
  {
   "cell_type": "code",
   "execution_count": 10,
   "id": "51637ac8",
   "metadata": {},
   "outputs": [
    {
     "data": {
      "text/html": [
       "<div>\n",
       "<style scoped>\n",
       "    .dataframe tbody tr th:only-of-type {\n",
       "        vertical-align: middle;\n",
       "    }\n",
       "\n",
       "    .dataframe tbody tr th {\n",
       "        vertical-align: top;\n",
       "    }\n",
       "\n",
       "    .dataframe thead th {\n",
       "        text-align: right;\n",
       "    }\n",
       "</style>\n",
       "<table border=\"1\" class=\"dataframe\">\n",
       "  <thead>\n",
       "    <tr style=\"text-align: right;\">\n",
       "      <th></th>\n",
       "      <th>TransactionID</th>\n",
       "      <th>CustomerID</th>\n",
       "      <th>CustomerDOB</th>\n",
       "      <th>CustGender</th>\n",
       "      <th>CustLocation</th>\n",
       "      <th>CustAccountBalance</th>\n",
       "      <th>TransactionDate</th>\n",
       "      <th>TransactionTime</th>\n",
       "      <th>TransactionAmount (INR)</th>\n",
       "    </tr>\n",
       "  </thead>\n",
       "  <tbody>\n",
       "    <tr>\n",
       "      <th>953529</th>\n",
       "      <td>T959988</td>\n",
       "      <td>C3380368</td>\n",
       "      <td>1/1/1800</td>\n",
       "      <td>T</td>\n",
       "      <td>CHENNAI</td>\n",
       "      <td>50050.0</td>\n",
       "      <td>10/9/16</td>\n",
       "      <td>170731</td>\n",
       "      <td>32500.0</td>\n",
       "    </tr>\n",
       "  </tbody>\n",
       "</table>\n",
       "</div>"
      ],
      "text/plain": [
       "       TransactionID CustomerID CustomerDOB CustGender CustLocation  \\\n",
       "953529       T959988   C3380368    1/1/1800          T      CHENNAI   \n",
       "\n",
       "        CustAccountBalance TransactionDate  TransactionTime  \\\n",
       "953529             50050.0         10/9/16           170731   \n",
       "\n",
       "        TransactionAmount (INR)  \n",
       "953529                  32500.0  "
      ]
     },
     "execution_count": 10,
     "metadata": {},
     "output_type": "execute_result"
    }
   ],
   "source": [
    "df.loc[df['CustGender'] == 'T']"
   ]
  },
  {
   "cell_type": "markdown",
   "id": "6a2999d1",
   "metadata": {},
   "source": [
    "There is only one row in the dataset with T as the CustGender value. There is no need to keep this row in the dataset. "
   ]
  },
  {
   "cell_type": "code",
   "execution_count": 11,
   "id": "9d080896",
   "metadata": {},
   "outputs": [],
   "source": [
    "df.drop(df[df['CustGender'] == 'T'].index, inplace = True)\n",
    "df.reset_index(drop=True, inplace=True)"
   ]
  },
  {
   "cell_type": "code",
   "execution_count": 12,
   "id": "09ec2158",
   "metadata": {},
   "outputs": [
    {
     "data": {
      "image/png": "[encoded data removed]",
      "text/plain": [
       "<Figure size 640x480 with 1 Axes>"
      ]
     },
     "metadata": {},
     "output_type": "display_data"
    }
   ],
   "source": [
    "sns.barplot(data=df,x='CustGender',y='CustAccountBalance').set(title='Customer Gender vs. Account Balance');"
   ]
  },
  {
   "cell_type": "markdown",
   "id": "b333b4e9",
   "metadata": {},
   "source": [
    "This barplot demonstrates that the male customers' average account balance seems to be higher than the female customers'. "
   ]
  },
  {
   "cell_type": "code",
   "execution_count": 13,
   "id": "a46c4054",
   "metadata": {},
   "outputs": [],
   "source": [
    "df = pd.get_dummies(df,columns=['CustGender'],drop_first=True)"
   ]
  },
  {
   "cell_type": "markdown",
   "id": "00b96af5",
   "metadata": {},
   "source": [
    "In this dataset, the CustGender column has binary non-numeric values (M or F). To represent the gender of the individual customer as a numerical value 0 or 1, dummy variables need to be created."
   ]
  },
  {
   "cell_type": "code",
   "execution_count": 14,
   "id": "fb50b035",
   "metadata": {},
   "outputs": [
    {
     "data": {
      "text/html": [
       "<div>\n",
       "<style scoped>\n",
       "    .dataframe tbody tr th:only-of-type {\n",
       "        vertical-align: middle;\n",
       "    }\n",
       "\n",
       "    .dataframe tbody tr th {\n",
       "        vertical-align: top;\n",
       "    }\n",
       "\n",
       "    .dataframe thead th {\n",
       "        text-align: right;\n",
       "    }\n",
       "</style>\n",
       "<table border=\"1\" class=\"dataframe\">\n",
       "  <thead>\n",
       "    <tr style=\"text-align: right;\">\n",
       "      <th></th>\n",
       "      <th>customer_dob</th>\n",
       "    </tr>\n",
       "  </thead>\n",
       "  <tbody>\n",
       "    <tr>\n",
       "      <th>0</th>\n",
       "      <td>[10, 1, 94]</td>\n",
       "    </tr>\n",
       "    <tr>\n",
       "      <th>1</th>\n",
       "      <td>[4, 4, 57]</td>\n",
       "    </tr>\n",
       "    <tr>\n",
       "      <th>2</th>\n",
       "      <td>[26, 11, 96]</td>\n",
       "    </tr>\n",
       "    <tr>\n",
       "      <th>3</th>\n",
       "      <td>[14, 9, 73]</td>\n",
       "    </tr>\n",
       "    <tr>\n",
       "      <th>4</th>\n",
       "      <td>[24, 3, 88]</td>\n",
       "    </tr>\n",
       "    <tr>\n",
       "      <th>...</th>\n",
       "      <td>...</td>\n",
       "    </tr>\n",
       "    <tr>\n",
       "      <th>1041608</th>\n",
       "      <td>[8, 4, 90]</td>\n",
       "    </tr>\n",
       "    <tr>\n",
       "      <th>1041609</th>\n",
       "      <td>[20, 2, 92]</td>\n",
       "    </tr>\n",
       "    <tr>\n",
       "      <th>1041610</th>\n",
       "      <td>[18, 5, 89]</td>\n",
       "    </tr>\n",
       "    <tr>\n",
       "      <th>1041611</th>\n",
       "      <td>[30, 8, 78]</td>\n",
       "    </tr>\n",
       "    <tr>\n",
       "      <th>1041612</th>\n",
       "      <td>[5, 3, 84]</td>\n",
       "    </tr>\n",
       "  </tbody>\n",
       "</table>\n",
       "<p>1041613 rows × 1 columns</p>\n",
       "</div>"
      ],
      "text/plain": [
       "         customer_dob\n",
       "0         [10, 1, 94]\n",
       "1          [4, 4, 57]\n",
       "2        [26, 11, 96]\n",
       "3         [14, 9, 73]\n",
       "4         [24, 3, 88]\n",
       "...               ...\n",
       "1041608    [8, 4, 90]\n",
       "1041609   [20, 2, 92]\n",
       "1041610   [18, 5, 89]\n",
       "1041611   [30, 8, 78]\n",
       "1041612    [5, 3, 84]\n",
       "\n",
       "[1041613 rows x 1 columns]"
      ]
     },
     "execution_count": 14,
     "metadata": {},
     "output_type": "execute_result"
    }
   ],
   "source": [
    "date_of_birth = {'customer_dob':[str(i).split('/') for i in df['CustomerDOB']]}\n",
    "DOB = pd.DataFrame(date_of_birth)\n",
    "DOB"
   ]
  },
  {
   "cell_type": "code",
   "execution_count": 15,
   "id": "aaedfd32",
   "metadata": {},
   "outputs": [
    {
     "name": "stderr",
     "output_type": "stream",
     "text": [
      "100%|██████████| 1041613/1041613 [00:58<00:00, 17676.80it/s]\n",
      "100%|██████████| 1041613/1041613 [01:00<00:00, 17308.13it/s]\n",
      "100%|██████████| 1041613/1041613 [01:03<00:00, 16435.51it/s]\n"
     ]
    }
   ],
   "source": [
    "day_of_birth = {'customer_day_birth':[DOB.iloc[i]['customer_dob'][0] for i in tqdm(range(len(DOB)))]}\n",
    "birth_day = pd.DataFrame(day_of_birth)\n",
    "\n",
    "month_of_birth = {'customer_month_birth':[DOB.iloc[i]['customer_dob'][1] for i in tqdm(range(len(DOB)))]}\n",
    "birth_month = pd.DataFrame(month_of_birth)\n",
    "\n",
    "year_of_birth = {'customer_year_birth':[DOB.iloc[i]['customer_dob'][2] for i in tqdm(range(len(DOB)))]}\n",
    "birth_year = pd.DataFrame(year_of_birth)"
   ]
  },
  {
   "cell_type": "markdown",
   "id": "1b622444",
   "metadata": {},
   "source": [
    "The DOB dataframe was made to create a list consisting of the day, month, and year for each row. After creating the DOB dataframe, multiple for loops were used to separate the the day, month, and year and place them in their own dataframe."
   ]
  },
  {
   "cell_type": "code",
   "execution_count": 16,
   "id": "183b3203",
   "metadata": {},
   "outputs": [
    {
     "data": {
      "text/plain": [
       "array(['94', '57', '96', '73', '88', '72', '92', '82', '84', '78', '68',\n",
       "       '1800', '89', '91', '85', '93', '86', '67', '79', '77', '97', '83',\n",
       "       '90', '80', '81', '66', '87', '75', '95', '74', '71', '32', '59',\n",
       "       '99', '65', '41', '54', '70', '76', '21', '69', '04', '43', '98',\n",
       "       '51', '60', '56', '53', '47', '00', '64', '48', '62', '52', '55',\n",
       "       '61', '36', '63', '42', '44', '38', '49', '58', '50', '46', '02',\n",
       "       '45', '37', '07', '01', '39', '40', '13', '03', '05', '10', '11',\n",
       "       '33', '34', '27', '19', '28', '30', '09', '31', '29', '35', '15',\n",
       "       '16', '06', '08', '12', '23', '26', '24', '22', '14', '20', '25',\n",
       "       '18'], dtype=object)"
      ]
     },
     "execution_count": 16,
     "metadata": {},
     "output_type": "execute_result"
    }
   ],
   "source": [
    "birth_year['customer_year_birth'].unique()"
   ]
  },
  {
   "cell_type": "markdown",
   "id": "d1c2fe6a",
   "metadata": {},
   "source": [
    "By looking at the unique customer birth years, it can be seen that the year 1800 seems to be out of place. To tackle this situation, it would be best to remove these customers from the dataset."
   ]
  },
  {
   "cell_type": "code",
   "execution_count": 17,
   "id": "25d07ebe",
   "metadata": {},
   "outputs": [
    {
     "data": {
      "text/html": [
       "<div>\n",
       "<style scoped>\n",
       "    .dataframe tbody tr th:only-of-type {\n",
       "        vertical-align: middle;\n",
       "    }\n",
       "\n",
       "    .dataframe tbody tr th {\n",
       "        vertical-align: top;\n",
       "    }\n",
       "\n",
       "    .dataframe thead th {\n",
       "        text-align: right;\n",
       "    }\n",
       "</style>\n",
       "<table border=\"1\" class=\"dataframe\">\n",
       "  <thead>\n",
       "    <tr style=\"text-align: right;\">\n",
       "      <th></th>\n",
       "      <th>customer_year_birth</th>\n",
       "    </tr>\n",
       "  </thead>\n",
       "  <tbody>\n",
       "    <tr>\n",
       "      <th>16</th>\n",
       "      <td>1800</td>\n",
       "    </tr>\n",
       "    <tr>\n",
       "      <th>22</th>\n",
       "      <td>1800</td>\n",
       "    </tr>\n",
       "    <tr>\n",
       "      <th>28</th>\n",
       "      <td>1800</td>\n",
       "    </tr>\n",
       "    <tr>\n",
       "      <th>34</th>\n",
       "      <td>1800</td>\n",
       "    </tr>\n",
       "    <tr>\n",
       "      <th>150</th>\n",
       "      <td>1800</td>\n",
       "    </tr>\n",
       "    <tr>\n",
       "      <th>...</th>\n",
       "      <td>...</td>\n",
       "    </tr>\n",
       "    <tr>\n",
       "      <th>1041490</th>\n",
       "      <td>1800</td>\n",
       "    </tr>\n",
       "    <tr>\n",
       "      <th>1041499</th>\n",
       "      <td>1800</td>\n",
       "    </tr>\n",
       "    <tr>\n",
       "      <th>1041577</th>\n",
       "      <td>1800</td>\n",
       "    </tr>\n",
       "    <tr>\n",
       "      <th>1041579</th>\n",
       "      <td>1800</td>\n",
       "    </tr>\n",
       "    <tr>\n",
       "      <th>1041586</th>\n",
       "      <td>1800</td>\n",
       "    </tr>\n",
       "  </tbody>\n",
       "</table>\n",
       "<p>56291 rows × 1 columns</p>\n",
       "</div>"
      ],
      "text/plain": [
       "        customer_year_birth\n",
       "16                     1800\n",
       "22                     1800\n",
       "28                     1800\n",
       "34                     1800\n",
       "150                    1800\n",
       "...                     ...\n",
       "1041490                1800\n",
       "1041499                1800\n",
       "1041577                1800\n",
       "1041579                1800\n",
       "1041586                1800\n",
       "\n",
       "[56291 rows x 1 columns]"
      ]
     },
     "execution_count": 17,
     "metadata": {},
     "output_type": "execute_result"
    }
   ],
   "source": [
    "birth_year[birth_year['customer_year_birth']=='1800']"
   ]
  },
  {
   "cell_type": "code",
   "execution_count": 18,
   "id": "9d38b08c",
   "metadata": {},
   "outputs": [],
   "source": [
    "df['CustBirthDay'] = birth_day\n",
    "df['CustBirthMonth'] = birth_month\n",
    "df['CustBirthYear'] = birth_year"
   ]
  },
  {
   "cell_type": "code",
   "execution_count": 19,
   "id": "1ff3d627",
   "metadata": {},
   "outputs": [],
   "source": [
    "df.drop(df[df['CustBirthYear'] == '1800'].index, inplace = True)\n",
    "df.reset_index(drop=True, inplace=True)"
   ]
  },
  {
   "cell_type": "code",
   "execution_count": 20,
   "id": "47f0a917",
   "metadata": {},
   "outputs": [],
   "source": [
    "df['CustBirthYear'] = ['19' + i for i in df['CustBirthYear']]"
   ]
  },
  {
   "cell_type": "markdown",
   "id": "4b4b11f9",
   "metadata": {},
   "source": [
    "After creating the new columns in the original dataframe and removing the rows of data with 1800 as the birth year, a for loop was used to add \"19\" in front of the values from the CustBirthYear column."
   ]
  },
  {
   "cell_type": "markdown",
   "id": "5c999289",
   "metadata": {},
   "source": [
    "A similar process was then used when working with the transaction date."
   ]
  },
  {
   "cell_type": "code",
   "execution_count": 21,
   "id": "c4c4cc21",
   "metadata": {},
   "outputs": [
    {
     "data": {
      "text/html": [
       "<div>\n",
       "<style scoped>\n",
       "    .dataframe tbody tr th:only-of-type {\n",
       "        vertical-align: middle;\n",
       "    }\n",
       "\n",
       "    .dataframe tbody tr th {\n",
       "        vertical-align: top;\n",
       "    }\n",
       "\n",
       "    .dataframe thead th {\n",
       "        text-align: right;\n",
       "    }\n",
       "</style>\n",
       "<table border=\"1\" class=\"dataframe\">\n",
       "  <thead>\n",
       "    <tr style=\"text-align: right;\">\n",
       "      <th></th>\n",
       "      <th>trans_date</th>\n",
       "    </tr>\n",
       "  </thead>\n",
       "  <tbody>\n",
       "    <tr>\n",
       "      <th>0</th>\n",
       "      <td>[2, 8, 16]</td>\n",
       "    </tr>\n",
       "    <tr>\n",
       "      <th>1</th>\n",
       "      <td>[2, 8, 16]</td>\n",
       "    </tr>\n",
       "    <tr>\n",
       "      <th>2</th>\n",
       "      <td>[2, 8, 16]</td>\n",
       "    </tr>\n",
       "    <tr>\n",
       "      <th>3</th>\n",
       "      <td>[2, 8, 16]</td>\n",
       "    </tr>\n",
       "    <tr>\n",
       "      <th>4</th>\n",
       "      <td>[2, 8, 16]</td>\n",
       "    </tr>\n",
       "    <tr>\n",
       "      <th>...</th>\n",
       "      <td>...</td>\n",
       "    </tr>\n",
       "    <tr>\n",
       "      <th>985317</th>\n",
       "      <td>[18, 9, 16]</td>\n",
       "    </tr>\n",
       "    <tr>\n",
       "      <th>985318</th>\n",
       "      <td>[18, 9, 16]</td>\n",
       "    </tr>\n",
       "    <tr>\n",
       "      <th>985319</th>\n",
       "      <td>[18, 9, 16]</td>\n",
       "    </tr>\n",
       "    <tr>\n",
       "      <th>985320</th>\n",
       "      <td>[18, 9, 16]</td>\n",
       "    </tr>\n",
       "    <tr>\n",
       "      <th>985321</th>\n",
       "      <td>[18, 9, 16]</td>\n",
       "    </tr>\n",
       "  </tbody>\n",
       "</table>\n",
       "<p>985322 rows × 1 columns</p>\n",
       "</div>"
      ],
      "text/plain": [
       "         trans_date\n",
       "0        [2, 8, 16]\n",
       "1        [2, 8, 16]\n",
       "2        [2, 8, 16]\n",
       "3        [2, 8, 16]\n",
       "4        [2, 8, 16]\n",
       "...             ...\n",
       "985317  [18, 9, 16]\n",
       "985318  [18, 9, 16]\n",
       "985319  [18, 9, 16]\n",
       "985320  [18, 9, 16]\n",
       "985321  [18, 9, 16]\n",
       "\n",
       "[985322 rows x 1 columns]"
      ]
     },
     "execution_count": 21,
     "metadata": {},
     "output_type": "execute_result"
    }
   ],
   "source": [
    "transaction_date = {'trans_date':[str(i).split('/') for i in df['TransactionDate']]}\n",
    "TD = pd.DataFrame(transaction_date)\n",
    "TD"
   ]
  },
  {
   "cell_type": "code",
   "execution_count": 22,
   "id": "a2a0ba0a",
   "metadata": {},
   "outputs": [
    {
     "name": "stderr",
     "output_type": "stream",
     "text": [
      "100%|██████████| 985322/985322 [00:57<00:00, 17271.47it/s]\n",
      "100%|██████████| 985322/985322 [00:54<00:00, 18214.55it/s]\n",
      "100%|██████████| 985322/985322 [00:54<00:00, 18056.99it/s]\n"
     ]
    }
   ],
   "source": [
    "day_of_transaction = {'transaction_day':[TD.iloc[i]['trans_date'][0] for i in tqdm(range(len(TD)))]}\n",
    "trans_day = pd.DataFrame(day_of_transaction)\n",
    "\n",
    "month_of_transaction = {'transaction_month':[TD.iloc[i]['trans_date'][1] for i in tqdm(range(len(TD)))]}\n",
    "trans_month = pd.DataFrame(month_of_transaction)\n",
    "\n",
    "year_of_transaction = {'transaction_year':[TD.iloc[i]['trans_date'][2] for i in tqdm(range(len(TD)))]}\n",
    "trans_year = pd.DataFrame(year_of_transaction)"
   ]
  },
  {
   "cell_type": "code",
   "execution_count": 23,
   "id": "8fca8785",
   "metadata": {},
   "outputs": [
    {
     "data": {
      "text/plain": [
       "array(['16'], dtype=object)"
      ]
     },
     "execution_count": 23,
     "metadata": {},
     "output_type": "execute_result"
    }
   ],
   "source": [
    "trans_year['transaction_year'].unique()"
   ]
  },
  {
   "cell_type": "code",
   "execution_count": 24,
   "id": "81ed5000",
   "metadata": {},
   "outputs": [],
   "source": [
    "df['TransactionDay'] = trans_day\n",
    "df['TransactionMonth'] = trans_month\n",
    "df['TransactionYear'] = trans_year"
   ]
  },
  {
   "cell_type": "code",
   "execution_count": 25,
   "id": "073762fa",
   "metadata": {},
   "outputs": [],
   "source": [
    "df['TransactionYear'] = ['20' + i for i in df['TransactionYear']]"
   ]
  },
  {
   "cell_type": "markdown",
   "id": "ca7fa109",
   "metadata": {},
   "source": [
    "Now that the day, month, and year columns have been created for the transaction and customer birth dates, the customer age can be calculated using relativedelta."
   ]
  },
  {
   "cell_type": "code",
   "execution_count": 26,
   "id": "6126350c",
   "metadata": {},
   "outputs": [
    {
     "name": "stderr",
     "output_type": "stream",
     "text": [
      "100%|██████████| 985322/985322 [00:47<00:00, 20788.97it/s]\n"
     ]
    }
   ],
   "source": [
    "customer_age = []\n",
    "\n",
    "for i in tqdm(range(len(df['TransactionDate']))):\n",
    "    birthday = date(int(df['CustBirthYear'][i]),int(df['CustBirthMonth'][i]),int(df['CustBirthDay'][i]))\n",
    "    transaction = date(int(df['TransactionYear'][i]),int(df['TransactionMonth'][i]),int(df['TransactionDay'][i]))\n",
    "    cust_age = relativedelta(transaction, birthday).years\n",
    "    customer_age.append(cust_age)\n",
    "    \n",
    "df['CustAge'] = customer_age"
   ]
  },
  {
   "cell_type": "code",
   "execution_count": 27,
   "id": "b9e28e2e",
   "metadata": {},
   "outputs": [
    {
     "data": {
      "text/html": [
       "<div>\n",
       "<style scoped>\n",
       "    .dataframe tbody tr th:only-of-type {\n",
       "        vertical-align: middle;\n",
       "    }\n",
       "\n",
       "    .dataframe tbody tr th {\n",
       "        vertical-align: top;\n",
       "    }\n",
       "\n",
       "    .dataframe thead th {\n",
       "        text-align: right;\n",
       "    }\n",
       "</style>\n",
       "<table border=\"1\" class=\"dataframe\">\n",
       "  <thead>\n",
       "    <tr style=\"text-align: right;\">\n",
       "      <th></th>\n",
       "      <th>TransactionID</th>\n",
       "      <th>CustomerID</th>\n",
       "      <th>CustomerDOB</th>\n",
       "      <th>CustLocation</th>\n",
       "      <th>CustAccountBalance</th>\n",
       "      <th>TransactionDate</th>\n",
       "      <th>TransactionTime</th>\n",
       "      <th>TransactionAmount (INR)</th>\n",
       "      <th>CustGender_M</th>\n",
       "      <th>CustBirthDay</th>\n",
       "      <th>CustBirthMonth</th>\n",
       "      <th>CustBirthYear</th>\n",
       "      <th>TransactionDay</th>\n",
       "      <th>TransactionMonth</th>\n",
       "      <th>TransactionYear</th>\n",
       "      <th>CustAge</th>\n",
       "    </tr>\n",
       "  </thead>\n",
       "  <tbody>\n",
       "    <tr>\n",
       "      <th>0</th>\n",
       "      <td>T1</td>\n",
       "      <td>C5841053</td>\n",
       "      <td>10/1/94</td>\n",
       "      <td>JAMSHEDPUR</td>\n",
       "      <td>17819.05</td>\n",
       "      <td>2/8/16</td>\n",
       "      <td>143207</td>\n",
       "      <td>25.0</td>\n",
       "      <td>0</td>\n",
       "      <td>10</td>\n",
       "      <td>1</td>\n",
       "      <td>1994</td>\n",
       "      <td>2</td>\n",
       "      <td>8</td>\n",
       "      <td>2016</td>\n",
       "      <td>22</td>\n",
       "    </tr>\n",
       "    <tr>\n",
       "      <th>1</th>\n",
       "      <td>T2</td>\n",
       "      <td>C2142763</td>\n",
       "      <td>4/4/57</td>\n",
       "      <td>JHAJJAR</td>\n",
       "      <td>2270.69</td>\n",
       "      <td>2/8/16</td>\n",
       "      <td>141858</td>\n",
       "      <td>27999.0</td>\n",
       "      <td>1</td>\n",
       "      <td>4</td>\n",
       "      <td>4</td>\n",
       "      <td>1957</td>\n",
       "      <td>2</td>\n",
       "      <td>8</td>\n",
       "      <td>2016</td>\n",
       "      <td>59</td>\n",
       "    </tr>\n",
       "    <tr>\n",
       "      <th>2</th>\n",
       "      <td>T3</td>\n",
       "      <td>C4417068</td>\n",
       "      <td>26/11/96</td>\n",
       "      <td>MUMBAI</td>\n",
       "      <td>17874.44</td>\n",
       "      <td>2/8/16</td>\n",
       "      <td>142712</td>\n",
       "      <td>459.0</td>\n",
       "      <td>0</td>\n",
       "      <td>26</td>\n",
       "      <td>11</td>\n",
       "      <td>1996</td>\n",
       "      <td>2</td>\n",
       "      <td>8</td>\n",
       "      <td>2016</td>\n",
       "      <td>19</td>\n",
       "    </tr>\n",
       "    <tr>\n",
       "      <th>3</th>\n",
       "      <td>T4</td>\n",
       "      <td>C5342380</td>\n",
       "      <td>14/9/73</td>\n",
       "      <td>MUMBAI</td>\n",
       "      <td>866503.21</td>\n",
       "      <td>2/8/16</td>\n",
       "      <td>142714</td>\n",
       "      <td>2060.0</td>\n",
       "      <td>0</td>\n",
       "      <td>14</td>\n",
       "      <td>9</td>\n",
       "      <td>1973</td>\n",
       "      <td>2</td>\n",
       "      <td>8</td>\n",
       "      <td>2016</td>\n",
       "      <td>42</td>\n",
       "    </tr>\n",
       "    <tr>\n",
       "      <th>4</th>\n",
       "      <td>T5</td>\n",
       "      <td>C9031234</td>\n",
       "      <td>24/3/88</td>\n",
       "      <td>NAVI MUMBAI</td>\n",
       "      <td>6714.43</td>\n",
       "      <td>2/8/16</td>\n",
       "      <td>181156</td>\n",
       "      <td>1762.5</td>\n",
       "      <td>0</td>\n",
       "      <td>24</td>\n",
       "      <td>3</td>\n",
       "      <td>1988</td>\n",
       "      <td>2</td>\n",
       "      <td>8</td>\n",
       "      <td>2016</td>\n",
       "      <td>28</td>\n",
       "    </tr>\n",
       "    <tr>\n",
       "      <th>...</th>\n",
       "      <td>...</td>\n",
       "      <td>...</td>\n",
       "      <td>...</td>\n",
       "      <td>...</td>\n",
       "      <td>...</td>\n",
       "      <td>...</td>\n",
       "      <td>...</td>\n",
       "      <td>...</td>\n",
       "      <td>...</td>\n",
       "      <td>...</td>\n",
       "      <td>...</td>\n",
       "      <td>...</td>\n",
       "      <td>...</td>\n",
       "      <td>...</td>\n",
       "      <td>...</td>\n",
       "      <td>...</td>\n",
       "    </tr>\n",
       "    <tr>\n",
       "      <th>985317</th>\n",
       "      <td>T1048563</td>\n",
       "      <td>C8020229</td>\n",
       "      <td>8/4/90</td>\n",
       "      <td>NEW DELHI</td>\n",
       "      <td>7635.19</td>\n",
       "      <td>18/9/16</td>\n",
       "      <td>184824</td>\n",
       "      <td>799.0</td>\n",
       "      <td>1</td>\n",
       "      <td>8</td>\n",
       "      <td>4</td>\n",
       "      <td>1990</td>\n",
       "      <td>18</td>\n",
       "      <td>9</td>\n",
       "      <td>2016</td>\n",
       "      <td>26</td>\n",
       "    </tr>\n",
       "    <tr>\n",
       "      <th>985318</th>\n",
       "      <td>T1048564</td>\n",
       "      <td>C6459278</td>\n",
       "      <td>20/2/92</td>\n",
       "      <td>NASHIK</td>\n",
       "      <td>27311.42</td>\n",
       "      <td>18/9/16</td>\n",
       "      <td>183734</td>\n",
       "      <td>460.0</td>\n",
       "      <td>1</td>\n",
       "      <td>20</td>\n",
       "      <td>2</td>\n",
       "      <td>1992</td>\n",
       "      <td>18</td>\n",
       "      <td>9</td>\n",
       "      <td>2016</td>\n",
       "      <td>24</td>\n",
       "    </tr>\n",
       "    <tr>\n",
       "      <th>985319</th>\n",
       "      <td>T1048565</td>\n",
       "      <td>C6412354</td>\n",
       "      <td>18/5/89</td>\n",
       "      <td>HYDERABAD</td>\n",
       "      <td>221757.06</td>\n",
       "      <td>18/9/16</td>\n",
       "      <td>183313</td>\n",
       "      <td>770.0</td>\n",
       "      <td>1</td>\n",
       "      <td>18</td>\n",
       "      <td>5</td>\n",
       "      <td>1989</td>\n",
       "      <td>18</td>\n",
       "      <td>9</td>\n",
       "      <td>2016</td>\n",
       "      <td>27</td>\n",
       "    </tr>\n",
       "    <tr>\n",
       "      <th>985320</th>\n",
       "      <td>T1048566</td>\n",
       "      <td>C6420483</td>\n",
       "      <td>30/8/78</td>\n",
       "      <td>VISAKHAPATNAM</td>\n",
       "      <td>10117.87</td>\n",
       "      <td>18/9/16</td>\n",
       "      <td>184706</td>\n",
       "      <td>1000.0</td>\n",
       "      <td>1</td>\n",
       "      <td>30</td>\n",
       "      <td>8</td>\n",
       "      <td>1978</td>\n",
       "      <td>18</td>\n",
       "      <td>9</td>\n",
       "      <td>2016</td>\n",
       "      <td>38</td>\n",
       "    </tr>\n",
       "    <tr>\n",
       "      <th>985321</th>\n",
       "      <td>T1048567</td>\n",
       "      <td>C8337524</td>\n",
       "      <td>5/3/84</td>\n",
       "      <td>PUNE</td>\n",
       "      <td>75734.42</td>\n",
       "      <td>18/9/16</td>\n",
       "      <td>181222</td>\n",
       "      <td>1166.0</td>\n",
       "      <td>1</td>\n",
       "      <td>5</td>\n",
       "      <td>3</td>\n",
       "      <td>1984</td>\n",
       "      <td>18</td>\n",
       "      <td>9</td>\n",
       "      <td>2016</td>\n",
       "      <td>32</td>\n",
       "    </tr>\n",
       "  </tbody>\n",
       "</table>\n",
       "<p>985322 rows × 16 columns</p>\n",
       "</div>"
      ],
      "text/plain": [
       "       TransactionID CustomerID CustomerDOB   CustLocation  \\\n",
       "0                 T1   C5841053     10/1/94     JAMSHEDPUR   \n",
       "1                 T2   C2142763      4/4/57        JHAJJAR   \n",
       "2                 T3   C4417068    26/11/96         MUMBAI   \n",
       "3                 T4   C5342380     14/9/73         MUMBAI   \n",
       "4                 T5   C9031234     24/3/88    NAVI MUMBAI   \n",
       "...              ...        ...         ...            ...   \n",
       "985317      T1048563   C8020229      8/4/90      NEW DELHI   \n",
       "985318      T1048564   C6459278     20/2/92         NASHIK   \n",
       "985319      T1048565   C6412354     18/5/89      HYDERABAD   \n",
       "985320      T1048566   C6420483     30/8/78  VISAKHAPATNAM   \n",
       "985321      T1048567   C8337524      5/3/84           PUNE   \n",
       "\n",
       "        CustAccountBalance TransactionDate  TransactionTime  \\\n",
       "0                 17819.05          2/8/16           143207   \n",
       "1                  2270.69          2/8/16           141858   \n",
       "2                 17874.44          2/8/16           142712   \n",
       "3                866503.21          2/8/16           142714   \n",
       "4                  6714.43          2/8/16           181156   \n",
       "...                    ...             ...              ...   \n",
       "985317             7635.19         18/9/16           184824   \n",
       "985318            27311.42         18/9/16           183734   \n",
       "985319           221757.06         18/9/16           183313   \n",
       "985320            10117.87         18/9/16           184706   \n",
       "985321            75734.42         18/9/16           181222   \n",
       "\n",
       "        TransactionAmount (INR)  CustGender_M CustBirthDay CustBirthMonth  \\\n",
       "0                          25.0             0           10              1   \n",
       "1                       27999.0             1            4              4   \n",
       "2                         459.0             0           26             11   \n",
       "3                        2060.0             0           14              9   \n",
       "4                        1762.5             0           24              3   \n",
       "...                         ...           ...          ...            ...   \n",
       "985317                    799.0             1            8              4   \n",
       "985318                    460.0             1           20              2   \n",
       "985319                    770.0             1           18              5   \n",
       "985320                   1000.0             1           30              8   \n",
       "985321                   1166.0             1            5              3   \n",
       "\n",
       "       CustBirthYear TransactionDay TransactionMonth TransactionYear  CustAge  \n",
       "0               1994              2                8            2016       22  \n",
       "1               1957              2                8            2016       59  \n",
       "2               1996              2                8            2016       19  \n",
       "3               1973              2                8            2016       42  \n",
       "4               1988              2                8            2016       28  \n",
       "...              ...            ...              ...             ...      ...  \n",
       "985317          1990             18                9            2016       26  \n",
       "985318          1992             18                9            2016       24  \n",
       "985319          1989             18                9            2016       27  \n",
       "985320          1978             18                9            2016       38  \n",
       "985321          1984             18                9            2016       32  \n",
       "\n",
       "[985322 rows x 16 columns]"
      ]
     },
     "execution_count": 27,
     "metadata": {},
     "output_type": "execute_result"
    }
   ],
   "source": [
    "df"
   ]
  },
  {
   "cell_type": "code",
   "execution_count": 28,
   "id": "5f919407",
   "metadata": {},
   "outputs": [
    {
     "data": {
      "text/plain": [
       "26     73053\n",
       "25     72905\n",
       "24     68397\n",
       "27     65386\n",
       "28     61138\n",
       "       ...  \n",
       "100        6\n",
       "92         3\n",
       "90         2\n",
       "91         1\n",
       "98         1\n",
       "Name: CustAge, Length: 98, dtype: int64"
      ]
     },
     "execution_count": 28,
     "metadata": {},
     "output_type": "execute_result"
    }
   ],
   "source": [
    "df['CustAge'].value_counts()"
   ]
  },
  {
   "cell_type": "code",
   "execution_count": 29,
   "id": "e180cb7c",
   "metadata": {},
   "outputs": [
    {
     "data": {
      "image/png": "[encoded data removed]",
      "text/plain": [
       "<Figure size 640x480 with 1 Axes>"
      ]
     },
     "metadata": {},
     "output_type": "display_data"
    }
   ],
   "source": [
    "sns.distplot(df['CustAge']).set(title='Distribution Plot of Customer Ages');"
   ]
  },
  {
   "cell_type": "markdown",
   "id": "0d3d67f9",
   "metadata": {},
   "source": [
    "The distribution plot of the customer ages demonstrates a right skewed distribution."
   ]
  },
  {
   "cell_type": "code",
   "execution_count": 30,
   "id": "aab0beae",
   "metadata": {},
   "outputs": [
    {
     "data": {
      "text/html": [
       "<div>\n",
       "<style scoped>\n",
       "    .dataframe tbody tr th:only-of-type {\n",
       "        vertical-align: middle;\n",
       "    }\n",
       "\n",
       "    .dataframe tbody tr th {\n",
       "        vertical-align: top;\n",
       "    }\n",
       "\n",
       "    .dataframe thead th {\n",
       "        text-align: right;\n",
       "    }\n",
       "</style>\n",
       "<table border=\"1\" class=\"dataframe\">\n",
       "  <thead>\n",
       "    <tr style=\"text-align: right;\">\n",
       "      <th></th>\n",
       "      <th>TransactionID</th>\n",
       "      <th>CustomerID</th>\n",
       "      <th>CustomerDOB</th>\n",
       "      <th>CustLocation</th>\n",
       "      <th>CustAccountBalance</th>\n",
       "      <th>TransactionDate</th>\n",
       "      <th>TransactionTime</th>\n",
       "      <th>TransactionAmount (INR)</th>\n",
       "      <th>CustGender_M</th>\n",
       "      <th>CustBirthDay</th>\n",
       "      <th>CustBirthMonth</th>\n",
       "      <th>CustBirthYear</th>\n",
       "      <th>TransactionDay</th>\n",
       "      <th>TransactionMonth</th>\n",
       "      <th>TransactionYear</th>\n",
       "      <th>CustAge</th>\n",
       "      <th>CustGeneration</th>\n",
       "    </tr>\n",
       "  </thead>\n",
       "  <tbody>\n",
       "    <tr>\n",
       "      <th>0</th>\n",
       "      <td>T1</td>\n",
       "      <td>C5841053</td>\n",
       "      <td>10/1/94</td>\n",
       "      <td>JAMSHEDPUR</td>\n",
       "      <td>17819.05</td>\n",
       "      <td>2/8/16</td>\n",
       "      <td>143207</td>\n",
       "      <td>25.0</td>\n",
       "      <td>0</td>\n",
       "      <td>10</td>\n",
       "      <td>1</td>\n",
       "      <td>1994</td>\n",
       "      <td>2</td>\n",
       "      <td>8</td>\n",
       "      <td>2016</td>\n",
       "      <td>22</td>\n",
       "      <td>Progressives</td>\n",
       "    </tr>\n",
       "    <tr>\n",
       "      <th>1</th>\n",
       "      <td>T2</td>\n",
       "      <td>C2142763</td>\n",
       "      <td>4/4/57</td>\n",
       "      <td>JHAJJAR</td>\n",
       "      <td>2270.69</td>\n",
       "      <td>2/8/16</td>\n",
       "      <td>141858</td>\n",
       "      <td>27999.0</td>\n",
       "      <td>1</td>\n",
       "      <td>4</td>\n",
       "      <td>4</td>\n",
       "      <td>1957</td>\n",
       "      <td>2</td>\n",
       "      <td>8</td>\n",
       "      <td>2016</td>\n",
       "      <td>59</td>\n",
       "      <td>Die-Hards</td>\n",
       "    </tr>\n",
       "    <tr>\n",
       "      <th>2</th>\n",
       "      <td>T3</td>\n",
       "      <td>C4417068</td>\n",
       "      <td>26/11/96</td>\n",
       "      <td>MUMBAI</td>\n",
       "      <td>17874.44</td>\n",
       "      <td>2/8/16</td>\n",
       "      <td>142712</td>\n",
       "      <td>459.0</td>\n",
       "      <td>0</td>\n",
       "      <td>26</td>\n",
       "      <td>11</td>\n",
       "      <td>1996</td>\n",
       "      <td>2</td>\n",
       "      <td>8</td>\n",
       "      <td>2016</td>\n",
       "      <td>19</td>\n",
       "      <td>Progressives</td>\n",
       "    </tr>\n",
       "    <tr>\n",
       "      <th>3</th>\n",
       "      <td>T4</td>\n",
       "      <td>C5342380</td>\n",
       "      <td>14/9/73</td>\n",
       "      <td>MUMBAI</td>\n",
       "      <td>866503.21</td>\n",
       "      <td>2/8/16</td>\n",
       "      <td>142714</td>\n",
       "      <td>2060.0</td>\n",
       "      <td>0</td>\n",
       "      <td>14</td>\n",
       "      <td>9</td>\n",
       "      <td>1973</td>\n",
       "      <td>2</td>\n",
       "      <td>8</td>\n",
       "      <td>2016</td>\n",
       "      <td>42</td>\n",
       "      <td>Conventionalists</td>\n",
       "    </tr>\n",
       "    <tr>\n",
       "      <th>4</th>\n",
       "      <td>T5</td>\n",
       "      <td>C9031234</td>\n",
       "      <td>24/3/88</td>\n",
       "      <td>NAVI MUMBAI</td>\n",
       "      <td>6714.43</td>\n",
       "      <td>2/8/16</td>\n",
       "      <td>181156</td>\n",
       "      <td>1762.5</td>\n",
       "      <td>0</td>\n",
       "      <td>24</td>\n",
       "      <td>3</td>\n",
       "      <td>1988</td>\n",
       "      <td>2</td>\n",
       "      <td>8</td>\n",
       "      <td>2016</td>\n",
       "      <td>28</td>\n",
       "      <td>Progressives</td>\n",
       "    </tr>\n",
       "  </tbody>\n",
       "</table>\n",
       "</div>"
      ],
      "text/plain": [
       "  TransactionID CustomerID CustomerDOB CustLocation  CustAccountBalance  \\\n",
       "0            T1   C5841053     10/1/94   JAMSHEDPUR            17819.05   \n",
       "1            T2   C2142763      4/4/57      JHAJJAR             2270.69   \n",
       "2            T3   C4417068    26/11/96       MUMBAI            17874.44   \n",
       "3            T4   C5342380     14/9/73       MUMBAI           866503.21   \n",
       "4            T5   C9031234     24/3/88  NAVI MUMBAI             6714.43   \n",
       "\n",
       "  TransactionDate  TransactionTime  TransactionAmount (INR)  CustGender_M  \\\n",
       "0          2/8/16           143207                     25.0             0   \n",
       "1          2/8/16           141858                  27999.0             1   \n",
       "2          2/8/16           142712                    459.0             0   \n",
       "3          2/8/16           142714                   2060.0             0   \n",
       "4          2/8/16           181156                   1762.5             0   \n",
       "\n",
       "  CustBirthDay CustBirthMonth CustBirthYear TransactionDay TransactionMonth  \\\n",
       "0           10              1          1994              2                8   \n",
       "1            4              4          1957              2                8   \n",
       "2           26             11          1996              2                8   \n",
       "3           14              9          1973              2                8   \n",
       "4           24              3          1988              2                8   \n",
       "\n",
       "  TransactionYear  CustAge    CustGeneration  \n",
       "0            2016       22      Progressives  \n",
       "1            2016       59         Die-Hards  \n",
       "2            2016       19      Progressives  \n",
       "3            2016       42  Conventionalists  \n",
       "4            2016       28      Progressives  "
      ]
     },
     "execution_count": 30,
     "metadata": {},
     "output_type": "execute_result"
    }
   ],
   "source": [
    "generations = []\n",
    "for i in df['CustBirthYear']:\n",
    "    if (int(i) > 2000):\n",
    "        generation_a = 'After Google'\n",
    "        generations.append(generation_a)\n",
    "    elif (int(i) >= 1981 and int(i) <= 2000):\n",
    "        generation_p = 'Progressives'\n",
    "        generations.append(generation_p)\n",
    "    elif (int(i) >= 1961 and int(i) <= 1980):\n",
    "        generation_c = 'Conventionalists'\n",
    "        generations.append(generation_c)\n",
    "    else:\n",
    "        generation_d = 'Die-Hards'\n",
    "        generations.append(generation_d)\n",
    "\n",
    "df['CustGeneration'] = generations\n",
    "df.head()"
   ]
  },
  {
   "cell_type": "code",
   "execution_count": 31,
   "id": "ff927147",
   "metadata": {},
   "outputs": [
    {
     "data": {
      "image/png": "[encoded data removed]",
      "text/plain": [
       "<Figure size 640x480 with 1 Axes>"
      ]
     },
     "metadata": {},
     "output_type": "display_data"
    }
   ],
   "source": [
    "sns.barplot(data=df,x='CustGeneration',y='CustAccountBalance').set(title='Customer Generation vs. Account Balance');"
   ]
  },
  {
   "cell_type": "markdown",
   "id": "8a1a1c56",
   "metadata": {},
   "source": [
    "Creating a categorical column to appropriately place the generation the customers belong to. The bar plot shows that the \"Die-Hards\" average account balance is higher than the other generations'."
   ]
  },
  {
   "cell_type": "code",
   "execution_count": 32,
   "id": "e0b7beb3",
   "metadata": {},
   "outputs": [
    {
     "data": {
      "text/plain": [
       "array(['2/8/16', '1/8/16', '3/8/16', '5/8/16', '4/8/16', '6/8/16',\n",
       "       '9/8/16', '8/8/16', '12/8/16', '7/8/16', '21/10/16', '16/10/16',\n",
       "       '10/8/16', '14/8/16', '17/8/16', '21/8/16', '19/8/16', '24/8/16',\n",
       "       '22/8/16', '29/8/16', '22/9/16', '23/9/16', '13/8/16', '25/8/16',\n",
       "       '28/8/16', '15/8/16', '27/8/16', '31/8/16', '20/8/16', '23/8/16',\n",
       "       '30/8/16', '11/8/16', '16/8/16', '26/8/16', '27/9/16', '18/8/16',\n",
       "       '25/9/16', '26/9/16', '30/9/16', '3/9/16', '2/9/16', '1/9/16',\n",
       "       '6/9/16', '5/9/16', '4/9/16', '9/9/16', '8/9/16', '7/9/16',\n",
       "       '12/9/16', '11/9/16', '10/9/16', '15/9/16', '14/9/16', '13/9/16',\n",
       "       '18/9/16'], dtype=object)"
      ]
     },
     "execution_count": 32,
     "metadata": {},
     "output_type": "execute_result"
    }
   ],
   "source": [
    "df['TransactionDate'].unique()"
   ]
  },
  {
   "cell_type": "code",
   "execution_count": 33,
   "id": "62acfe91",
   "metadata": {},
   "outputs": [],
   "source": [
    "df.drop(['CustomerDOB', 'TransactionDate'], axis=1,inplace=True)"
   ]
  },
  {
   "cell_type": "code",
   "execution_count": 34,
   "id": "c0ae32e9",
   "metadata": {},
   "outputs": [
    {
     "name": "stderr",
     "output_type": "stream",
     "text": [
      "100%|██████████| 985322/985322 [00:16<00:00, 60245.12it/s]\n"
     ]
    }
   ],
   "source": [
    "trans_date = []\n",
    "\n",
    "for i in tqdm(range(len(df['TransactionID']))):\n",
    "    t_date = date(int(df['TransactionYear'][i]),int(df['TransactionMonth'][i]),int(df['TransactionDay'][i]))\n",
    "    trans_date.append(t_date)\n",
    "    \n",
    "df['TransactionDate'] = trans_date"
   ]
  },
  {
   "cell_type": "code",
   "execution_count": 35,
   "id": "34698148",
   "metadata": {},
   "outputs": [],
   "source": [
    "df.drop(['CustBirthDay', 'CustBirthMonth','CustBirthYear','TransactionDay','TransactionMonth','TransactionYear','TransactionID'], axis=1,inplace=True)"
   ]
  },
  {
   "cell_type": "markdown",
   "id": "23fc01fb",
   "metadata": {},
   "source": [
    "Created the TransactionDate column to improve the format of the date values. Once that was complete, there was no need to keep the CustBirthDay, CustBirthMonth, CustBirthYear, TransactionDay, TransactionMonth, TransactionYear, and TransactionID columns in the dataframe."
   ]
  },
  {
   "cell_type": "code",
   "execution_count": 36,
   "id": "3ec4637d",
   "metadata": {
    "scrolled": false
   },
   "outputs": [
    {
     "data": {
      "text/html": [
       "<div>\n",
       "<style scoped>\n",
       "    .dataframe tbody tr th:only-of-type {\n",
       "        vertical-align: middle;\n",
       "    }\n",
       "\n",
       "    .dataframe tbody tr th {\n",
       "        vertical-align: top;\n",
       "    }\n",
       "\n",
       "    .dataframe thead th {\n",
       "        text-align: right;\n",
       "    }\n",
       "</style>\n",
       "<table border=\"1\" class=\"dataframe\">\n",
       "  <thead>\n",
       "    <tr style=\"text-align: right;\">\n",
       "      <th></th>\n",
       "      <th>CustomerID</th>\n",
       "      <th>CustLocation</th>\n",
       "      <th>CustAccountBalance</th>\n",
       "      <th>TransactionTime</th>\n",
       "      <th>TransactionAmount (INR)</th>\n",
       "      <th>CustGender_M</th>\n",
       "      <th>CustAge</th>\n",
       "      <th>CustGeneration</th>\n",
       "      <th>TransactionDate</th>\n",
       "    </tr>\n",
       "  </thead>\n",
       "  <tbody>\n",
       "    <tr>\n",
       "      <th>0</th>\n",
       "      <td>C5841053</td>\n",
       "      <td>JAMSHEDPUR</td>\n",
       "      <td>17819.05</td>\n",
       "      <td>143207</td>\n",
       "      <td>25.0</td>\n",
       "      <td>0</td>\n",
       "      <td>22</td>\n",
       "      <td>Progressives</td>\n",
       "      <td>2016-08-02</td>\n",
       "    </tr>\n",
       "    <tr>\n",
       "      <th>1</th>\n",
       "      <td>C2142763</td>\n",
       "      <td>JHAJJAR</td>\n",
       "      <td>2270.69</td>\n",
       "      <td>141858</td>\n",
       "      <td>27999.0</td>\n",
       "      <td>1</td>\n",
       "      <td>59</td>\n",
       "      <td>Die-Hards</td>\n",
       "      <td>2016-08-02</td>\n",
       "    </tr>\n",
       "    <tr>\n",
       "      <th>2</th>\n",
       "      <td>C4417068</td>\n",
       "      <td>MUMBAI</td>\n",
       "      <td>17874.44</td>\n",
       "      <td>142712</td>\n",
       "      <td>459.0</td>\n",
       "      <td>0</td>\n",
       "      <td>19</td>\n",
       "      <td>Progressives</td>\n",
       "      <td>2016-08-02</td>\n",
       "    </tr>\n",
       "    <tr>\n",
       "      <th>3</th>\n",
       "      <td>C5342380</td>\n",
       "      <td>MUMBAI</td>\n",
       "      <td>866503.21</td>\n",
       "      <td>142714</td>\n",
       "      <td>2060.0</td>\n",
       "      <td>0</td>\n",
       "      <td>42</td>\n",
       "      <td>Conventionalists</td>\n",
       "      <td>2016-08-02</td>\n",
       "    </tr>\n",
       "    <tr>\n",
       "      <th>4</th>\n",
       "      <td>C9031234</td>\n",
       "      <td>NAVI MUMBAI</td>\n",
       "      <td>6714.43</td>\n",
       "      <td>181156</td>\n",
       "      <td>1762.5</td>\n",
       "      <td>0</td>\n",
       "      <td>28</td>\n",
       "      <td>Progressives</td>\n",
       "      <td>2016-08-02</td>\n",
       "    </tr>\n",
       "    <tr>\n",
       "      <th>...</th>\n",
       "      <td>...</td>\n",
       "      <td>...</td>\n",
       "      <td>...</td>\n",
       "      <td>...</td>\n",
       "      <td>...</td>\n",
       "      <td>...</td>\n",
       "      <td>...</td>\n",
       "      <td>...</td>\n",
       "      <td>...</td>\n",
       "    </tr>\n",
       "    <tr>\n",
       "      <th>985317</th>\n",
       "      <td>C8020229</td>\n",
       "      <td>NEW DELHI</td>\n",
       "      <td>7635.19</td>\n",
       "      <td>184824</td>\n",
       "      <td>799.0</td>\n",
       "      <td>1</td>\n",
       "      <td>26</td>\n",
       "      <td>Progressives</td>\n",
       "      <td>2016-09-18</td>\n",
       "    </tr>\n",
       "    <tr>\n",
       "      <th>985318</th>\n",
       "      <td>C6459278</td>\n",
       "      <td>NASHIK</td>\n",
       "      <td>27311.42</td>\n",
       "      <td>183734</td>\n",
       "      <td>460.0</td>\n",
       "      <td>1</td>\n",
       "      <td>24</td>\n",
       "      <td>Progressives</td>\n",
       "      <td>2016-09-18</td>\n",
       "    </tr>\n",
       "    <tr>\n",
       "      <th>985319</th>\n",
       "      <td>C6412354</td>\n",
       "      <td>HYDERABAD</td>\n",
       "      <td>221757.06</td>\n",
       "      <td>183313</td>\n",
       "      <td>770.0</td>\n",
       "      <td>1</td>\n",
       "      <td>27</td>\n",
       "      <td>Progressives</td>\n",
       "      <td>2016-09-18</td>\n",
       "    </tr>\n",
       "    <tr>\n",
       "      <th>985320</th>\n",
       "      <td>C6420483</td>\n",
       "      <td>VISAKHAPATNAM</td>\n",
       "      <td>10117.87</td>\n",
       "      <td>184706</td>\n",
       "      <td>1000.0</td>\n",
       "      <td>1</td>\n",
       "      <td>38</td>\n",
       "      <td>Conventionalists</td>\n",
       "      <td>2016-09-18</td>\n",
       "    </tr>\n",
       "    <tr>\n",
       "      <th>985321</th>\n",
       "      <td>C8337524</td>\n",
       "      <td>PUNE</td>\n",
       "      <td>75734.42</td>\n",
       "      <td>181222</td>\n",
       "      <td>1166.0</td>\n",
       "      <td>1</td>\n",
       "      <td>32</td>\n",
       "      <td>Progressives</td>\n",
       "      <td>2016-09-18</td>\n",
       "    </tr>\n",
       "  </tbody>\n",
       "</table>\n",
       "<p>985322 rows × 9 columns</p>\n",
       "</div>"
      ],
      "text/plain": [
       "       CustomerID   CustLocation  CustAccountBalance  TransactionTime  \\\n",
       "0        C5841053     JAMSHEDPUR            17819.05           143207   \n",
       "1        C2142763        JHAJJAR             2270.69           141858   \n",
       "2        C4417068         MUMBAI            17874.44           142712   \n",
       "3        C5342380         MUMBAI           866503.21           142714   \n",
       "4        C9031234    NAVI MUMBAI             6714.43           181156   \n",
       "...           ...            ...                 ...              ...   \n",
       "985317   C8020229      NEW DELHI             7635.19           184824   \n",
       "985318   C6459278         NASHIK            27311.42           183734   \n",
       "985319   C6412354      HYDERABAD           221757.06           183313   \n",
       "985320   C6420483  VISAKHAPATNAM            10117.87           184706   \n",
       "985321   C8337524           PUNE            75734.42           181222   \n",
       "\n",
       "        TransactionAmount (INR)  CustGender_M  CustAge    CustGeneration  \\\n",
       "0                          25.0             0       22      Progressives   \n",
       "1                       27999.0             1       59         Die-Hards   \n",
       "2                         459.0             0       19      Progressives   \n",
       "3                        2060.0             0       42  Conventionalists   \n",
       "4                        1762.5             0       28      Progressives   \n",
       "...                         ...           ...      ...               ...   \n",
       "985317                    799.0             1       26      Progressives   \n",
       "985318                    460.0             1       24      Progressives   \n",
       "985319                    770.0             1       27      Progressives   \n",
       "985320                   1000.0             1       38  Conventionalists   \n",
       "985321                   1166.0             1       32      Progressives   \n",
       "\n",
       "       TransactionDate  \n",
       "0           2016-08-02  \n",
       "1           2016-08-02  \n",
       "2           2016-08-02  \n",
       "3           2016-08-02  \n",
       "4           2016-08-02  \n",
       "...                ...  \n",
       "985317      2016-09-18  \n",
       "985318      2016-09-18  \n",
       "985319      2016-09-18  \n",
       "985320      2016-09-18  \n",
       "985321      2016-09-18  \n",
       "\n",
       "[985322 rows x 9 columns]"
      ]
     },
     "execution_count": 36,
     "metadata": {},
     "output_type": "execute_result"
    }
   ],
   "source": [
    "df"
   ]
  },
  {
   "cell_type": "code",
   "execution_count": 37,
   "id": "de232919",
   "metadata": {},
   "outputs": [
    {
     "data": {
      "text/html": [
       "<div>\n",
       "<style scoped>\n",
       "    .dataframe tbody tr th:only-of-type {\n",
       "        vertical-align: middle;\n",
       "    }\n",
       "\n",
       "    .dataframe tbody tr th {\n",
       "        vertical-align: top;\n",
       "    }\n",
       "\n",
       "    .dataframe thead th {\n",
       "        text-align: right;\n",
       "    }\n",
       "</style>\n",
       "<table border=\"1\" class=\"dataframe\">\n",
       "  <thead>\n",
       "    <tr style=\"text-align: right;\">\n",
       "      <th></th>\n",
       "      <th>count</th>\n",
       "      <th>mean</th>\n",
       "      <th>std</th>\n",
       "      <th>min</th>\n",
       "      <th>25%</th>\n",
       "      <th>50%</th>\n",
       "      <th>75%</th>\n",
       "      <th>max</th>\n",
       "    </tr>\n",
       "  </thead>\n",
       "  <tbody>\n",
       "    <tr>\n",
       "      <th>CustAccountBalance</th>\n",
       "      <td>985322.0</td>\n",
       "      <td>106061.188580</td>\n",
       "      <td>817905.353760</td>\n",
       "      <td>0.0</td>\n",
       "      <td>4582.1325</td>\n",
       "      <td>16006.3</td>\n",
       "      <td>53759.08</td>\n",
       "      <td>1.150355e+08</td>\n",
       "    </tr>\n",
       "    <tr>\n",
       "      <th>TransactionTime</th>\n",
       "      <td>985322.0</td>\n",
       "      <td>157434.409364</td>\n",
       "      <td>51270.673224</td>\n",
       "      <td>0.0</td>\n",
       "      <td>124242.0000</td>\n",
       "      <td>164625.0</td>\n",
       "      <td>200151.00</td>\n",
       "      <td>2.359590e+05</td>\n",
       "    </tr>\n",
       "    <tr>\n",
       "      <th>TransactionAmount (INR)</th>\n",
       "      <td>985322.0</td>\n",
       "      <td>1452.425149</td>\n",
       "      <td>6139.765064</td>\n",
       "      <td>0.0</td>\n",
       "      <td>151.0000</td>\n",
       "      <td>431.0</td>\n",
       "      <td>1125.00</td>\n",
       "      <td>1.560035e+06</td>\n",
       "    </tr>\n",
       "    <tr>\n",
       "      <th>CustGender_M</th>\n",
       "      <td>985322.0</td>\n",
       "      <td>0.723067</td>\n",
       "      <td>0.447483</td>\n",
       "      <td>0.0</td>\n",
       "      <td>0.0000</td>\n",
       "      <td>1.0</td>\n",
       "      <td>1.00</td>\n",
       "      <td>1.000000e+00</td>\n",
       "    </tr>\n",
       "    <tr>\n",
       "      <th>CustAge</th>\n",
       "      <td>985322.0</td>\n",
       "      <td>30.780811</td>\n",
       "      <td>9.084187</td>\n",
       "      <td>16.0</td>\n",
       "      <td>25.0000</td>\n",
       "      <td>28.0</td>\n",
       "      <td>34.00</td>\n",
       "      <td>1.160000e+02</td>\n",
       "    </tr>\n",
       "  </tbody>\n",
       "</table>\n",
       "</div>"
      ],
      "text/plain": [
       "                            count           mean            std   min  \\\n",
       "CustAccountBalance       985322.0  106061.188580  817905.353760   0.0   \n",
       "TransactionTime          985322.0  157434.409364   51270.673224   0.0   \n",
       "TransactionAmount (INR)  985322.0    1452.425149    6139.765064   0.0   \n",
       "CustGender_M             985322.0       0.723067       0.447483   0.0   \n",
       "CustAge                  985322.0      30.780811       9.084187  16.0   \n",
       "\n",
       "                                 25%       50%        75%           max  \n",
       "CustAccountBalance         4582.1325   16006.3   53759.08  1.150355e+08  \n",
       "TransactionTime          124242.0000  164625.0  200151.00  2.359590e+05  \n",
       "TransactionAmount (INR)     151.0000     431.0    1125.00  1.560035e+06  \n",
       "CustGender_M                  0.0000       1.0       1.00  1.000000e+00  \n",
       "CustAge                      25.0000      28.0      34.00  1.160000e+02  "
      ]
     },
     "execution_count": 37,
     "metadata": {},
     "output_type": "execute_result"
    }
   ],
   "source": [
    "df.describe().transpose()"
   ]
  },
  {
   "cell_type": "markdown",
   "id": "fa5241ac",
   "metadata": {},
   "source": [
    "## Correlation Matrix"
   ]
  },
  {
   "cell_type": "code",
   "execution_count": 38,
   "id": "3ea36658",
   "metadata": {},
   "outputs": [
    {
     "data": {
      "image/png": "[encoded data removed]",
      "text/plain": [
       "<Figure size 640x480 with 2 Axes>"
      ]
     },
     "metadata": {},
     "output_type": "display_data"
    }
   ],
   "source": [
    "sns.heatmap(df.corr());"
   ]
  },
  {
   "cell_type": "markdown",
   "id": "8d57578e",
   "metadata": {},
   "source": [
    "The correlation matrix shows that the correlations between \"CustAccountBalance\" and \"TransactionAmount (INR)\", \"CustAccountBalance\" and \"CustAge\", \"TransactionAmount (INR)\" and \"CustAge\" are weakly positively correlated. "
   ]
  },
  {
   "cell_type": "markdown",
   "id": "2ddc0f00",
   "metadata": {},
   "source": [
    "## Recency"
   ]
  },
  {
   "cell_type": "markdown",
   "id": "0a42ace5",
   "metadata": {},
   "source": [
    "To build the segmentation model, the customer's RFM profile would need to be derived. The customer's RFM profile consists of Recency, Frequency, and Monetary Value. In this case, the dataframe contains the Monetary Value (TransactionAmount (INR)), so it would not need to be calculated. \n",
    "<br>\n",
    "<br>\n",
    "Starting off with recency, it would need to be known when each customer was last seen making a transaction."
   ]
  },
  {
   "cell_type": "code",
   "execution_count": 39,
   "id": "2edc5d37",
   "metadata": {},
   "outputs": [],
   "source": [
    "df['Rank'] = df.sort_values(['CustomerID','TransactionDate']).groupby(['CustomerID'])['TransactionDate'].rank(method='min').astype(int)"
   ]
  },
  {
   "cell_type": "code",
   "execution_count": 40,
   "id": "1c03915d",
   "metadata": {},
   "outputs": [],
   "source": [
    "df_rec = df[df['Rank']==1]\n",
    "df_rec.reset_index(drop=True, inplace=True)"
   ]
  },
  {
   "cell_type": "code",
   "execution_count": 41,
   "id": "36fa0299",
   "metadata": {},
   "outputs": [
    {
     "data": {
      "text/html": [
       "<div>\n",
       "<style scoped>\n",
       "    .dataframe tbody tr th:only-of-type {\n",
       "        vertical-align: middle;\n",
       "    }\n",
       "\n",
       "    .dataframe tbody tr th {\n",
       "        vertical-align: top;\n",
       "    }\n",
       "\n",
       "    .dataframe thead th {\n",
       "        text-align: right;\n",
       "    }\n",
       "</style>\n",
       "<table border=\"1\" class=\"dataframe\">\n",
       "  <thead>\n",
       "    <tr style=\"text-align: right;\">\n",
       "      <th></th>\n",
       "      <th>CustomerID</th>\n",
       "      <th>CustLocation</th>\n",
       "      <th>CustAccountBalance</th>\n",
       "      <th>TransactionTime</th>\n",
       "      <th>TransactionAmount (INR)</th>\n",
       "      <th>CustGender_M</th>\n",
       "      <th>CustAge</th>\n",
       "      <th>CustGeneration</th>\n",
       "      <th>TransactionDate</th>\n",
       "      <th>Rank</th>\n",
       "    </tr>\n",
       "  </thead>\n",
       "  <tbody>\n",
       "    <tr>\n",
       "      <th>0</th>\n",
       "      <td>C5841053</td>\n",
       "      <td>JAMSHEDPUR</td>\n",
       "      <td>17819.05</td>\n",
       "      <td>143207</td>\n",
       "      <td>25.0</td>\n",
       "      <td>0</td>\n",
       "      <td>22</td>\n",
       "      <td>Progressives</td>\n",
       "      <td>2016-08-02</td>\n",
       "      <td>1</td>\n",
       "    </tr>\n",
       "    <tr>\n",
       "      <th>1</th>\n",
       "      <td>C2142763</td>\n",
       "      <td>JHAJJAR</td>\n",
       "      <td>2270.69</td>\n",
       "      <td>141858</td>\n",
       "      <td>27999.0</td>\n",
       "      <td>1</td>\n",
       "      <td>59</td>\n",
       "      <td>Die-Hards</td>\n",
       "      <td>2016-08-02</td>\n",
       "      <td>1</td>\n",
       "    </tr>\n",
       "    <tr>\n",
       "      <th>2</th>\n",
       "      <td>C4417068</td>\n",
       "      <td>MUMBAI</td>\n",
       "      <td>17874.44</td>\n",
       "      <td>142712</td>\n",
       "      <td>459.0</td>\n",
       "      <td>0</td>\n",
       "      <td>19</td>\n",
       "      <td>Progressives</td>\n",
       "      <td>2016-08-02</td>\n",
       "      <td>1</td>\n",
       "    </tr>\n",
       "    <tr>\n",
       "      <th>3</th>\n",
       "      <td>C5342380</td>\n",
       "      <td>MUMBAI</td>\n",
       "      <td>866503.21</td>\n",
       "      <td>142714</td>\n",
       "      <td>2060.0</td>\n",
       "      <td>0</td>\n",
       "      <td>42</td>\n",
       "      <td>Conventionalists</td>\n",
       "      <td>2016-08-02</td>\n",
       "      <td>1</td>\n",
       "    </tr>\n",
       "    <tr>\n",
       "      <th>4</th>\n",
       "      <td>C9031234</td>\n",
       "      <td>NAVI MUMBAI</td>\n",
       "      <td>6714.43</td>\n",
       "      <td>181156</td>\n",
       "      <td>1762.5</td>\n",
       "      <td>0</td>\n",
       "      <td>28</td>\n",
       "      <td>Progressives</td>\n",
       "      <td>2016-08-02</td>\n",
       "      <td>1</td>\n",
       "    </tr>\n",
       "    <tr>\n",
       "      <th>...</th>\n",
       "      <td>...</td>\n",
       "      <td>...</td>\n",
       "      <td>...</td>\n",
       "      <td>...</td>\n",
       "      <td>...</td>\n",
       "      <td>...</td>\n",
       "      <td>...</td>\n",
       "      <td>...</td>\n",
       "      <td>...</td>\n",
       "      <td>...</td>\n",
       "    </tr>\n",
       "    <tr>\n",
       "      <th>841849</th>\n",
       "      <td>C5028150</td>\n",
       "      <td>PUNE</td>\n",
       "      <td>464.87</td>\n",
       "      <td>184632</td>\n",
       "      <td>3000.0</td>\n",
       "      <td>1</td>\n",
       "      <td>36</td>\n",
       "      <td>Conventionalists</td>\n",
       "      <td>2016-09-18</td>\n",
       "      <td>1</td>\n",
       "    </tr>\n",
       "    <tr>\n",
       "      <th>841850</th>\n",
       "      <td>C1034220</td>\n",
       "      <td>BANGALORE</td>\n",
       "      <td>1212.70</td>\n",
       "      <td>184734</td>\n",
       "      <td>1500.0</td>\n",
       "      <td>1</td>\n",
       "      <td>23</td>\n",
       "      <td>Progressives</td>\n",
       "      <td>2016-09-18</td>\n",
       "      <td>1</td>\n",
       "    </tr>\n",
       "    <tr>\n",
       "      <th>841851</th>\n",
       "      <td>C8020229</td>\n",
       "      <td>NEW DELHI</td>\n",
       "      <td>7635.19</td>\n",
       "      <td>184824</td>\n",
       "      <td>799.0</td>\n",
       "      <td>1</td>\n",
       "      <td>26</td>\n",
       "      <td>Progressives</td>\n",
       "      <td>2016-09-18</td>\n",
       "      <td>1</td>\n",
       "    </tr>\n",
       "    <tr>\n",
       "      <th>841852</th>\n",
       "      <td>C6459278</td>\n",
       "      <td>NASHIK</td>\n",
       "      <td>27311.42</td>\n",
       "      <td>183734</td>\n",
       "      <td>460.0</td>\n",
       "      <td>1</td>\n",
       "      <td>24</td>\n",
       "      <td>Progressives</td>\n",
       "      <td>2016-09-18</td>\n",
       "      <td>1</td>\n",
       "    </tr>\n",
       "    <tr>\n",
       "      <th>841853</th>\n",
       "      <td>C6420483</td>\n",
       "      <td>VISAKHAPATNAM</td>\n",
       "      <td>10117.87</td>\n",
       "      <td>184706</td>\n",
       "      <td>1000.0</td>\n",
       "      <td>1</td>\n",
       "      <td>38</td>\n",
       "      <td>Conventionalists</td>\n",
       "      <td>2016-09-18</td>\n",
       "      <td>1</td>\n",
       "    </tr>\n",
       "  </tbody>\n",
       "</table>\n",
       "<p>841854 rows × 10 columns</p>\n",
       "</div>"
      ],
      "text/plain": [
       "       CustomerID   CustLocation  CustAccountBalance  TransactionTime  \\\n",
       "0        C5841053     JAMSHEDPUR            17819.05           143207   \n",
       "1        C2142763        JHAJJAR             2270.69           141858   \n",
       "2        C4417068         MUMBAI            17874.44           142712   \n",
       "3        C5342380         MUMBAI           866503.21           142714   \n",
       "4        C9031234    NAVI MUMBAI             6714.43           181156   \n",
       "...           ...            ...                 ...              ...   \n",
       "841849   C5028150           PUNE              464.87           184632   \n",
       "841850   C1034220      BANGALORE             1212.70           184734   \n",
       "841851   C8020229      NEW DELHI             7635.19           184824   \n",
       "841852   C6459278         NASHIK            27311.42           183734   \n",
       "841853   C6420483  VISAKHAPATNAM            10117.87           184706   \n",
       "\n",
       "        TransactionAmount (INR)  CustGender_M  CustAge    CustGeneration  \\\n",
       "0                          25.0             0       22      Progressives   \n",
       "1                       27999.0             1       59         Die-Hards   \n",
       "2                         459.0             0       19      Progressives   \n",
       "3                        2060.0             0       42  Conventionalists   \n",
       "4                        1762.5             0       28      Progressives   \n",
       "...                         ...           ...      ...               ...   \n",
       "841849                   3000.0             1       36  Conventionalists   \n",
       "841850                   1500.0             1       23      Progressives   \n",
       "841851                    799.0             1       26      Progressives   \n",
       "841852                    460.0             1       24      Progressives   \n",
       "841853                   1000.0             1       38  Conventionalists   \n",
       "\n",
       "       TransactionDate  Rank  \n",
       "0           2016-08-02     1  \n",
       "1           2016-08-02     1  \n",
       "2           2016-08-02     1  \n",
       "3           2016-08-02     1  \n",
       "4           2016-08-02     1  \n",
       "...                ...   ...  \n",
       "841849      2016-09-18     1  \n",
       "841850      2016-09-18     1  \n",
       "841851      2016-09-18     1  \n",
       "841852      2016-09-18     1  \n",
       "841853      2016-09-18     1  \n",
       "\n",
       "[841854 rows x 10 columns]"
      ]
     },
     "execution_count": 41,
     "metadata": {},
     "output_type": "execute_result"
    }
   ],
   "source": [
    "df_rec"
   ]
  },
  {
   "cell_type": "code",
   "execution_count": 42,
   "id": "faffbd83",
   "metadata": {},
   "outputs": [],
   "source": [
    "df_rec = df_rec.assign(Recency = (df_rec['TransactionDate'] - min(df_rec['TransactionDate'])))"
   ]
  },
  {
   "cell_type": "code",
   "execution_count": 43,
   "id": "844aab36",
   "metadata": {},
   "outputs": [],
   "source": [
    "df_rec['Recency'] = df_rec['Recency'].astype(str).str.replace(' days', '')"
   ]
  },
  {
   "cell_type": "code",
   "execution_count": 44,
   "id": "cb4136dc",
   "metadata": {},
   "outputs": [],
   "source": [
    "df_rec['Recency'] = df_rec['Recency'].astype(int)"
   ]
  },
  {
   "cell_type": "code",
   "execution_count": 45,
   "id": "fbd1046f",
   "metadata": {},
   "outputs": [
    {
     "data": {
      "text/html": [
       "<div>\n",
       "<style scoped>\n",
       "    .dataframe tbody tr th:only-of-type {\n",
       "        vertical-align: middle;\n",
       "    }\n",
       "\n",
       "    .dataframe tbody tr th {\n",
       "        vertical-align: top;\n",
       "    }\n",
       "\n",
       "    .dataframe thead th {\n",
       "        text-align: right;\n",
       "    }\n",
       "</style>\n",
       "<table border=\"1\" class=\"dataframe\">\n",
       "  <thead>\n",
       "    <tr style=\"text-align: right;\">\n",
       "      <th></th>\n",
       "      <th>CustomerID</th>\n",
       "      <th>CustLocation</th>\n",
       "      <th>CustAccountBalance</th>\n",
       "      <th>TransactionTime</th>\n",
       "      <th>TransactionAmount (INR)</th>\n",
       "      <th>CustGender_M</th>\n",
       "      <th>CustAge</th>\n",
       "      <th>CustGeneration</th>\n",
       "      <th>TransactionDate</th>\n",
       "      <th>Rank</th>\n",
       "      <th>Recency</th>\n",
       "    </tr>\n",
       "  </thead>\n",
       "  <tbody>\n",
       "    <tr>\n",
       "      <th>0</th>\n",
       "      <td>C5841053</td>\n",
       "      <td>JAMSHEDPUR</td>\n",
       "      <td>17819.05</td>\n",
       "      <td>143207</td>\n",
       "      <td>25.0</td>\n",
       "      <td>0</td>\n",
       "      <td>22</td>\n",
       "      <td>Progressives</td>\n",
       "      <td>2016-08-02</td>\n",
       "      <td>1</td>\n",
       "      <td>1</td>\n",
       "    </tr>\n",
       "    <tr>\n",
       "      <th>1</th>\n",
       "      <td>C2142763</td>\n",
       "      <td>JHAJJAR</td>\n",
       "      <td>2270.69</td>\n",
       "      <td>141858</td>\n",
       "      <td>27999.0</td>\n",
       "      <td>1</td>\n",
       "      <td>59</td>\n",
       "      <td>Die-Hards</td>\n",
       "      <td>2016-08-02</td>\n",
       "      <td>1</td>\n",
       "      <td>1</td>\n",
       "    </tr>\n",
       "    <tr>\n",
       "      <th>2</th>\n",
       "      <td>C4417068</td>\n",
       "      <td>MUMBAI</td>\n",
       "      <td>17874.44</td>\n",
       "      <td>142712</td>\n",
       "      <td>459.0</td>\n",
       "      <td>0</td>\n",
       "      <td>19</td>\n",
       "      <td>Progressives</td>\n",
       "      <td>2016-08-02</td>\n",
       "      <td>1</td>\n",
       "      <td>1</td>\n",
       "    </tr>\n",
       "    <tr>\n",
       "      <th>3</th>\n",
       "      <td>C5342380</td>\n",
       "      <td>MUMBAI</td>\n",
       "      <td>866503.21</td>\n",
       "      <td>142714</td>\n",
       "      <td>2060.0</td>\n",
       "      <td>0</td>\n",
       "      <td>42</td>\n",
       "      <td>Conventionalists</td>\n",
       "      <td>2016-08-02</td>\n",
       "      <td>1</td>\n",
       "      <td>1</td>\n",
       "    </tr>\n",
       "    <tr>\n",
       "      <th>4</th>\n",
       "      <td>C9031234</td>\n",
       "      <td>NAVI MUMBAI</td>\n",
       "      <td>6714.43</td>\n",
       "      <td>181156</td>\n",
       "      <td>1762.5</td>\n",
       "      <td>0</td>\n",
       "      <td>28</td>\n",
       "      <td>Progressives</td>\n",
       "      <td>2016-08-02</td>\n",
       "      <td>1</td>\n",
       "      <td>1</td>\n",
       "    </tr>\n",
       "  </tbody>\n",
       "</table>\n",
       "</div>"
      ],
      "text/plain": [
       "  CustomerID CustLocation  CustAccountBalance  TransactionTime  \\\n",
       "0   C5841053   JAMSHEDPUR            17819.05           143207   \n",
       "1   C2142763      JHAJJAR             2270.69           141858   \n",
       "2   C4417068       MUMBAI            17874.44           142712   \n",
       "3   C5342380       MUMBAI           866503.21           142714   \n",
       "4   C9031234  NAVI MUMBAI             6714.43           181156   \n",
       "\n",
       "   TransactionAmount (INR)  CustGender_M  CustAge    CustGeneration  \\\n",
       "0                     25.0             0       22      Progressives   \n",
       "1                  27999.0             1       59         Die-Hards   \n",
       "2                    459.0             0       19      Progressives   \n",
       "3                   2060.0             0       42  Conventionalists   \n",
       "4                   1762.5             0       28      Progressives   \n",
       "\n",
       "  TransactionDate  Rank  Recency  \n",
       "0      2016-08-02     1        1  \n",
       "1      2016-08-02     1        1  \n",
       "2      2016-08-02     1        1  \n",
       "3      2016-08-02     1        1  \n",
       "4      2016-08-02     1        1  "
      ]
     },
     "execution_count": 45,
     "metadata": {},
     "output_type": "execute_result"
    }
   ],
   "source": [
    "df_rec.head()"
   ]
  },
  {
   "cell_type": "markdown",
   "id": "2dca1938",
   "metadata": {},
   "source": [
    "## Frequency"
   ]
  },
  {
   "cell_type": "markdown",
   "id": "f28692c4",
   "metadata": {},
   "source": [
    "The frequency demonstrates how many times each customer has made a transaction."
   ]
  },
  {
   "cell_type": "code",
   "execution_count": 46,
   "id": "0297e2e3",
   "metadata": {},
   "outputs": [],
   "source": [
    "freq = df_rec.groupby('CustomerID')['TransactionDate'].count()\n",
    "df_freq = pd.DataFrame(freq).reset_index()\n",
    "df_freq.columns = ['CustomerID','Frequency']"
   ]
  },
  {
   "cell_type": "code",
   "execution_count": 47,
   "id": "bb32ab69",
   "metadata": {},
   "outputs": [],
   "source": [
    "rec_freq = df_freq.merge(df_rec,on='CustomerID')"
   ]
  },
  {
   "cell_type": "code",
   "execution_count": 48,
   "id": "79f878e9",
   "metadata": {},
   "outputs": [
    {
     "data": {
      "text/html": [
       "<div>\n",
       "<style scoped>\n",
       "    .dataframe tbody tr th:only-of-type {\n",
       "        vertical-align: middle;\n",
       "    }\n",
       "\n",
       "    .dataframe tbody tr th {\n",
       "        vertical-align: top;\n",
       "    }\n",
       "\n",
       "    .dataframe thead th {\n",
       "        text-align: right;\n",
       "    }\n",
       "</style>\n",
       "<table border=\"1\" class=\"dataframe\">\n",
       "  <thead>\n",
       "    <tr style=\"text-align: right;\">\n",
       "      <th></th>\n",
       "      <th>CustomerID</th>\n",
       "      <th>Frequency</th>\n",
       "      <th>CustLocation</th>\n",
       "      <th>CustAccountBalance</th>\n",
       "      <th>TransactionTime</th>\n",
       "      <th>TransactionAmount (INR)</th>\n",
       "      <th>CustGender_M</th>\n",
       "      <th>CustAge</th>\n",
       "      <th>CustGeneration</th>\n",
       "      <th>TransactionDate</th>\n",
       "      <th>Rank</th>\n",
       "      <th>Recency</th>\n",
       "    </tr>\n",
       "  </thead>\n",
       "  <tbody>\n",
       "    <tr>\n",
       "      <th>0</th>\n",
       "      <td>C1010011</td>\n",
       "      <td>1</td>\n",
       "      <td>NEW DELHI</td>\n",
       "      <td>120180.54</td>\n",
       "      <td>11229</td>\n",
       "      <td>356.0</td>\n",
       "      <td>1</td>\n",
       "      <td>33</td>\n",
       "      <td>Progressives</td>\n",
       "      <td>2016-08-09</td>\n",
       "      <td>1</td>\n",
       "      <td>8</td>\n",
       "    </tr>\n",
       "    <tr>\n",
       "      <th>1</th>\n",
       "      <td>C1010012</td>\n",
       "      <td>1</td>\n",
       "      <td>MUMBAI</td>\n",
       "      <td>24204.49</td>\n",
       "      <td>204409</td>\n",
       "      <td>1499.0</td>\n",
       "      <td>1</td>\n",
       "      <td>22</td>\n",
       "      <td>Progressives</td>\n",
       "      <td>2016-08-14</td>\n",
       "      <td>1</td>\n",
       "      <td>13</td>\n",
       "    </tr>\n",
       "    <tr>\n",
       "      <th>2</th>\n",
       "      <td>C1010014</td>\n",
       "      <td>1</td>\n",
       "      <td>MUMBAI</td>\n",
       "      <td>38377.14</td>\n",
       "      <td>154451</td>\n",
       "      <td>1205.0</td>\n",
       "      <td>0</td>\n",
       "      <td>24</td>\n",
       "      <td>Progressives</td>\n",
       "      <td>2016-08-01</td>\n",
       "      <td>1</td>\n",
       "      <td>0</td>\n",
       "    </tr>\n",
       "    <tr>\n",
       "      <th>3</th>\n",
       "      <td>C1010018</td>\n",
       "      <td>1</td>\n",
       "      <td>CHAMPARAN</td>\n",
       "      <td>496.18</td>\n",
       "      <td>170254</td>\n",
       "      <td>30.0</td>\n",
       "      <td>0</td>\n",
       "      <td>26</td>\n",
       "      <td>Progressives</td>\n",
       "      <td>2016-09-15</td>\n",
       "      <td>1</td>\n",
       "      <td>45</td>\n",
       "    </tr>\n",
       "    <tr>\n",
       "      <th>4</th>\n",
       "      <td>C1010024</td>\n",
       "      <td>1</td>\n",
       "      <td>KOLKATA</td>\n",
       "      <td>87058.65</td>\n",
       "      <td>141103</td>\n",
       "      <td>5000.0</td>\n",
       "      <td>1</td>\n",
       "      <td>51</td>\n",
       "      <td>Conventionalists</td>\n",
       "      <td>2016-08-18</td>\n",
       "      <td>1</td>\n",
       "      <td>17</td>\n",
       "    </tr>\n",
       "  </tbody>\n",
       "</table>\n",
       "</div>"
      ],
      "text/plain": [
       "  CustomerID  Frequency CustLocation  CustAccountBalance  TransactionTime  \\\n",
       "0   C1010011          1    NEW DELHI           120180.54            11229   \n",
       "1   C1010012          1       MUMBAI            24204.49           204409   \n",
       "2   C1010014          1       MUMBAI            38377.14           154451   \n",
       "3   C1010018          1    CHAMPARAN              496.18           170254   \n",
       "4   C1010024          1      KOLKATA            87058.65           141103   \n",
       "\n",
       "   TransactionAmount (INR)  CustGender_M  CustAge    CustGeneration  \\\n",
       "0                    356.0             1       33      Progressives   \n",
       "1                   1499.0             1       22      Progressives   \n",
       "2                   1205.0             0       24      Progressives   \n",
       "3                     30.0             0       26      Progressives   \n",
       "4                   5000.0             1       51  Conventionalists   \n",
       "\n",
       "  TransactionDate  Rank  Recency  \n",
       "0      2016-08-09     1        8  \n",
       "1      2016-08-14     1       13  \n",
       "2      2016-08-01     1        0  \n",
       "3      2016-09-15     1       45  \n",
       "4      2016-08-18     1       17  "
      ]
     },
     "execution_count": 48,
     "metadata": {},
     "output_type": "execute_result"
    }
   ],
   "source": [
    "rec_freq.head()"
   ]
  },
  {
   "cell_type": "markdown",
   "id": "cbd5f371",
   "metadata": {},
   "source": [
    "## Final Dataframe"
   ]
  },
  {
   "cell_type": "markdown",
   "id": "0b5ec09c",
   "metadata": {},
   "source": [
    "Now that recency and frequency has been calculated, the final dataframe can be created with the columns required to build the customer segmentation model. "
   ]
  },
  {
   "cell_type": "code",
   "execution_count": 49,
   "id": "4d51101c",
   "metadata": {},
   "outputs": [],
   "source": [
    "finaldf = rec_freq[['CustomerID','Recency','Frequency','TransactionAmount (INR)']]"
   ]
  },
  {
   "cell_type": "code",
   "execution_count": 50,
   "id": "4180ce65",
   "metadata": {},
   "outputs": [
    {
     "data": {
      "image/png": "[encoded data removed]",
      "text/plain": [
       "<Figure size 800x800 with 3 Axes>"
      ]
     },
     "metadata": {},
     "output_type": "display_data"
    }
   ],
   "source": [
    "fig, (ax1, ax2, ax3) = plt.subplots(1, 3, figsize=(8, 8))\n",
    "fig.suptitle('Boxplots for Recency, Frequency, and Transaction Amount')\n",
    "fig.tight_layout()\n",
    "ax1.boxplot(x=finaldf['Recency'])\n",
    "ax1.set_xlabel('Recency')\n",
    "ax2.boxplot(x=finaldf['Frequency'])\n",
    "ax2.set_xlabel('Frequency')\n",
    "ax3.boxplot(x=finaldf['TransactionAmount (INR)'])\n",
    "ax3.set_xlabel('TransactionAmount (INR)');"
   ]
  },
  {
   "cell_type": "markdown",
   "id": "98a32d66",
   "metadata": {},
   "source": [
    "The \"Recency\" and \"Frequency\" boxplots demonstrate that they are the two variables with a few visible outliers. The \"TransactionAmount (INR)\" variable has a good number of outliers. The outliers would need to be removed before building the segmentation model."
   ]
  },
  {
   "cell_type": "markdown",
   "id": "e1a756fe",
   "metadata": {},
   "source": [
    "## Removing Outliers"
   ]
  },
  {
   "cell_type": "markdown",
   "id": "0c5dbd9f",
   "metadata": {},
   "source": [
    "To identify outliers, the z-score would have to be computed. In this case, the data points with a z-score greater than 3 would be removed."
   ]
  },
  {
   "cell_type": "code",
   "execution_count": 51,
   "id": "b1e968eb",
   "metadata": {},
   "outputs": [],
   "source": [
    "new_df = finaldf[['Recency','Frequency','TransactionAmount (INR)']]\n",
    "z_scores = stats.zscore(new_df)\n",
    "abs_z_scores = np.abs(z_scores)\n",
    "filtered_entries = (abs_z_scores < 3).all(axis=1)\n",
    "new_df = new_df[filtered_entries]"
   ]
  },
  {
   "cell_type": "code",
   "execution_count": 52,
   "id": "94de16f5",
   "metadata": {},
   "outputs": [
    {
     "data": {
      "text/html": [
       "<div>\n",
       "<style scoped>\n",
       "    .dataframe tbody tr th:only-of-type {\n",
       "        vertical-align: middle;\n",
       "    }\n",
       "\n",
       "    .dataframe tbody tr th {\n",
       "        vertical-align: top;\n",
       "    }\n",
       "\n",
       "    .dataframe thead th {\n",
       "        text-align: right;\n",
       "    }\n",
       "</style>\n",
       "<table border=\"1\" class=\"dataframe\">\n",
       "  <thead>\n",
       "    <tr style=\"text-align: right;\">\n",
       "      <th></th>\n",
       "      <th>Recency</th>\n",
       "      <th>Frequency</th>\n",
       "      <th>TransactionAmount (INR)</th>\n",
       "    </tr>\n",
       "  </thead>\n",
       "  <tbody>\n",
       "    <tr>\n",
       "      <th>0</th>\n",
       "      <td>8</td>\n",
       "      <td>1</td>\n",
       "      <td>356.0</td>\n",
       "    </tr>\n",
       "    <tr>\n",
       "      <th>1</th>\n",
       "      <td>13</td>\n",
       "      <td>1</td>\n",
       "      <td>1499.0</td>\n",
       "    </tr>\n",
       "    <tr>\n",
       "      <th>2</th>\n",
       "      <td>0</td>\n",
       "      <td>1</td>\n",
       "      <td>1205.0</td>\n",
       "    </tr>\n",
       "    <tr>\n",
       "      <th>3</th>\n",
       "      <td>45</td>\n",
       "      <td>1</td>\n",
       "      <td>30.0</td>\n",
       "    </tr>\n",
       "    <tr>\n",
       "      <th>4</th>\n",
       "      <td>17</td>\n",
       "      <td>1</td>\n",
       "      <td>5000.0</td>\n",
       "    </tr>\n",
       "  </tbody>\n",
       "</table>\n",
       "</div>"
      ],
      "text/plain": [
       "   Recency  Frequency  TransactionAmount (INR)\n",
       "0        8          1                    356.0\n",
       "1       13          1                   1499.0\n",
       "2        0          1                   1205.0\n",
       "3       45          1                     30.0\n",
       "4       17          1                   5000.0"
      ]
     },
     "execution_count": 52,
     "metadata": {},
     "output_type": "execute_result"
    }
   ],
   "source": [
    "new_df.head()"
   ]
  },
  {
   "cell_type": "markdown",
   "id": "cc817bf7",
   "metadata": {},
   "source": [
    "## Clustering"
   ]
  },
  {
   "cell_type": "markdown",
   "id": "a5917b83",
   "metadata": {},
   "source": [
    "Now, it's time to apply standardization to the dataset's values so that they follow a normal distribution."
   ]
  },
  {
   "cell_type": "code",
   "execution_count": 53,
   "id": "77f448bb",
   "metadata": {},
   "outputs": [
    {
     "data": {
      "text/html": [
       "<div>\n",
       "<style scoped>\n",
       "    .dataframe tbody tr th:only-of-type {\n",
       "        vertical-align: middle;\n",
       "    }\n",
       "\n",
       "    .dataframe tbody tr th {\n",
       "        vertical-align: top;\n",
       "    }\n",
       "\n",
       "    .dataframe thead th {\n",
       "        text-align: right;\n",
       "    }\n",
       "</style>\n",
       "<table border=\"1\" class=\"dataframe\">\n",
       "  <thead>\n",
       "    <tr style=\"text-align: right;\">\n",
       "      <th></th>\n",
       "      <th>Recency</th>\n",
       "      <th>Frequency</th>\n",
       "      <th>TransactionAmount (INR)</th>\n",
       "    </tr>\n",
       "  </thead>\n",
       "  <tbody>\n",
       "    <tr>\n",
       "      <th>0</th>\n",
       "      <td>-1.020457</td>\n",
       "      <td>0.0</td>\n",
       "      <td>-0.633509</td>\n",
       "    </tr>\n",
       "    <tr>\n",
       "      <th>1</th>\n",
       "      <td>-0.688984</td>\n",
       "      <td>0.0</td>\n",
       "      <td>-0.240614</td>\n",
       "    </tr>\n",
       "    <tr>\n",
       "      <th>2</th>\n",
       "      <td>-1.550813</td>\n",
       "      <td>0.0</td>\n",
       "      <td>-0.341674</td>\n",
       "    </tr>\n",
       "    <tr>\n",
       "      <th>3</th>\n",
       "      <td>1.432440</td>\n",
       "      <td>0.0</td>\n",
       "      <td>-0.745568</td>\n",
       "    </tr>\n",
       "    <tr>\n",
       "      <th>4</th>\n",
       "      <td>-0.423806</td>\n",
       "      <td>0.0</td>\n",
       "      <td>0.962820</td>\n",
       "    </tr>\n",
       "  </tbody>\n",
       "</table>\n",
       "</div>"
      ],
      "text/plain": [
       "    Recency  Frequency  TransactionAmount (INR)\n",
       "0 -1.020457        0.0                -0.633509\n",
       "1 -0.688984        0.0                -0.240614\n",
       "2 -1.550813        0.0                -0.341674\n",
       "3  1.432440        0.0                -0.745568\n",
       "4 -0.423806        0.0                 0.962820"
      ]
     },
     "execution_count": 53,
     "metadata": {},
     "output_type": "execute_result"
    }
   ],
   "source": [
    "new_df = new_df.drop_duplicates()\n",
    "colmns = ['Recency','Frequency','TransactionAmount (INR)']\n",
    "features = new_df[colmns]\n",
    "scaler = StandardScaler().fit(features.values)\n",
    "features = scaler.transform(features.values)\n",
    "scaled_features = pd.DataFrame(features, columns = colmns)\n",
    "scaled_features.head()"
   ]
  },
  {
   "cell_type": "markdown",
   "id": "d9a04e5f",
   "metadata": {},
   "source": [
    "## Creating and Fitting Kmeans Model"
   ]
  },
  {
   "cell_type": "markdown",
   "id": "e1d7d43d",
   "metadata": {},
   "source": [
    "To create and fit multiple KMeans models, a for loop would be used to test 1 to 10 clusters. Once the Sum of Squares Errors for each K value have been listed, the \"elbow\" plot would help determine the optimal number of clusters to use. "
   ]
  },
  {
   "cell_type": "code",
   "execution_count": 54,
   "id": "da42e1a8",
   "metadata": {},
   "outputs": [
    {
     "name": "stderr",
     "output_type": "stream",
     "text": [
      "100%|██████████| 9/9 [00:35<00:00,  3.92s/it]\n"
     ]
    },
    {
     "data": {
      "image/png": "[encoded data removed]",
      "text/plain": [
       "<Figure size 640x480 with 1 Axes>"
      ]
     },
     "metadata": {},
     "output_type": "display_data"
    }
   ],
   "source": [
    "SSE = []\n",
    "for k in tqdm(range(1,10)):\n",
    "    model = KMeans(n_clusters = k, init='k-means++')\n",
    "    model.fit(scaled_features)\n",
    "    SSE.append(model.inertia_)\n",
    "\n",
    "plt.plot(range(1,10), SSE, marker='o')\n",
    "plt.xlabel('Number of Clusters')\n",
    "plt.ylabel('Sum of Squares Errors');"
   ]
  },
  {
   "cell_type": "markdown",
   "id": "8ad84d0c",
   "metadata": {},
   "source": [
    "Based on this \"elbow\" plot, the point of inflection on the curve is at the 3-cluster mark. This means that the best number of clusters to use in this KMeans model is 3."
   ]
  },
  {
   "cell_type": "code",
   "execution_count": 55,
   "id": "6d69c198",
   "metadata": {},
   "outputs": [
    {
     "data": {
      "image/png": "[encoded data removed]",
      "text/plain": [
       "<Figure size 640x480 with 1 Axes>"
      ]
     },
     "metadata": {},
     "output_type": "display_data"
    }
   ],
   "source": [
    "pd.Series(SSE).diff().plot(kind='bar', title='SSE Difference From the Previous Cluster');"
   ]
  },
  {
   "cell_type": "code",
   "execution_count": 56,
   "id": "464bd1ab",
   "metadata": {},
   "outputs": [
    {
     "data": {
      "text/plain": [
       "KMeans(n_clusters=3)"
      ]
     },
     "execution_count": 56,
     "metadata": {},
     "output_type": "execute_result"
    }
   ],
   "source": [
    "kmeans = KMeans(n_clusters = 3, init='k-means++')\n",
    "kmeans.fit(scaled_features)"
   ]
  },
  {
   "cell_type": "code",
   "execution_count": 57,
   "id": "084f54f6",
   "metadata": {
    "scrolled": false
   },
   "outputs": [
    {
     "name": "stdout",
     "output_type": "stream",
     "text": [
      "0.4925927480479703\n"
     ]
    }
   ],
   "source": [
    "print(silhouette_score(scaled_features, kmeans.labels_, metric='euclidean'))"
   ]
  },
  {
   "cell_type": "markdown",
   "id": "d6bf322d",
   "metadata": {},
   "source": [
    "To assess the performance of this KMeans model, the silhouette score was used. This is a metric that is used to calculate the goodness of a clustering technique. The coefficient value ranges from -1 to +1. A high silhouette score shows that the object is well matched to its own cluster and poorly matches to neighboring clusters.\n",
    "<br>\n",
    "The silhouette coefficient of this model is 0.49, indicating fair cluster separation."
   ]
  },
  {
   "cell_type": "markdown",
   "id": "3fbfbc42",
   "metadata": {},
   "source": [
    "Now that the segmentation model is built, the clusters need to be assigned to each customer in the dataset."
   ]
  },
  {
   "cell_type": "code",
   "execution_count": 58,
   "id": "4d8c4881",
   "metadata": {},
   "outputs": [
    {
     "data": {
      "text/html": [
       "<div>\n",
       "<style scoped>\n",
       "    .dataframe tbody tr th:only-of-type {\n",
       "        vertical-align: middle;\n",
       "    }\n",
       "\n",
       "    .dataframe tbody tr th {\n",
       "        vertical-align: top;\n",
       "    }\n",
       "\n",
       "    .dataframe thead th {\n",
       "        text-align: right;\n",
       "    }\n",
       "</style>\n",
       "<table border=\"1\" class=\"dataframe\">\n",
       "  <thead>\n",
       "    <tr style=\"text-align: right;\">\n",
       "      <th></th>\n",
       "      <th>Recency</th>\n",
       "      <th>Frequency</th>\n",
       "      <th>TransactionAmount (INR)</th>\n",
       "      <th>cluster</th>\n",
       "    </tr>\n",
       "  </thead>\n",
       "  <tbody>\n",
       "    <tr>\n",
       "      <th>0</th>\n",
       "      <td>8</td>\n",
       "      <td>1</td>\n",
       "      <td>356.0</td>\n",
       "      <td>1</td>\n",
       "    </tr>\n",
       "    <tr>\n",
       "      <th>1</th>\n",
       "      <td>13</td>\n",
       "      <td>1</td>\n",
       "      <td>1499.0</td>\n",
       "      <td>1</td>\n",
       "    </tr>\n",
       "    <tr>\n",
       "      <th>2</th>\n",
       "      <td>0</td>\n",
       "      <td>1</td>\n",
       "      <td>1205.0</td>\n",
       "      <td>1</td>\n",
       "    </tr>\n",
       "    <tr>\n",
       "      <th>3</th>\n",
       "      <td>45</td>\n",
       "      <td>1</td>\n",
       "      <td>30.0</td>\n",
       "      <td>0</td>\n",
       "    </tr>\n",
       "    <tr>\n",
       "      <th>4</th>\n",
       "      <td>17</td>\n",
       "      <td>1</td>\n",
       "      <td>5000.0</td>\n",
       "      <td>1</td>\n",
       "    </tr>\n",
       "  </tbody>\n",
       "</table>\n",
       "</div>"
      ],
      "text/plain": [
       "   Recency  Frequency  TransactionAmount (INR)  cluster\n",
       "0        8          1                    356.0        1\n",
       "1       13          1                   1499.0        1\n",
       "2        0          1                   1205.0        1\n",
       "3       45          1                     30.0        0\n",
       "4       17          1                   5000.0        1"
      ]
     },
     "execution_count": 58,
     "metadata": {},
     "output_type": "execute_result"
    }
   ],
   "source": [
    "pred = kmeans.predict(scaled_features)\n",
    "frame = pd.DataFrame(new_df)\n",
    "frame['cluster'] = pred\n",
    "frame.head()"
   ]
  },
  {
   "cell_type": "code",
   "execution_count": 59,
   "id": "be46a533",
   "metadata": {},
   "outputs": [
    {
     "data": {
      "image/png": "[encoded data removed]",
      "text/plain": [
       "<Figure size 800x800 with 3 Axes>"
      ]
     },
     "metadata": {},
     "output_type": "display_data"
    }
   ],
   "source": [
    "avg_df = frame.groupby(['cluster'], as_index=False).mean()\n",
    "fig, (ax1, ax2, ax3) = plt.subplots(1, 3, figsize=(8, 8))\n",
    "ax1.bar(x=avg_df['cluster'],height=avg_df['Recency'],color=['tab:blue', 'tab:orange', 'tab:green'])\n",
    "ax1.set_xlabel('Cluster')\n",
    "ax1.set_ylabel('Recency')\n",
    "ax2.bar(x=avg_df['cluster'],height=avg_df['Frequency'],color=['tab:blue', 'tab:orange', 'tab:green'])\n",
    "ax2.set_xlabel('Cluster')\n",
    "ax2.set_ylabel('Frequency')\n",
    "ax3.bar(x=avg_df['cluster'],height=avg_df['TransactionAmount (INR)'],color=['tab:blue', 'tab:orange', 'tab:green'])\n",
    "ax3.set_xlabel('Cluster')\n",
    "ax3.set_ylabel('TransactionAmount (INR)')\n",
    "fig.tight_layout();"
   ]
  },
  {
   "cell_type": "markdown",
   "id": "d7929589",
   "metadata": {},
   "source": [
    "| Cluster | Customer Atributes | \n",
    "|:--------:|:--------:|\n",
    "|  0   |  Customers in this cluster have high recency and frequency, and low transaction amount scores. These are people who frequently make small transactions.   |\n",
    "|  1   |  Customers in this cluster have low recency, high frequency, and low transaction amount scores. These are people who frequently make small transactions. However, the transactions made from these customers were made earlier compared to the transactions made from customers in the other clusters.   |\n",
    "|  2   |  Customers in this cluster have high recency, frequency, and transaction amount scores. These are people who frequently make large transactions.   |"
   ]
  }
 ],
 "metadata": {
  "kernelspec": {
   "display_name": "Python 3",
   "language": "python",
   "name": "python3"
  },
  "language_info": {
   "codemirror_mode": {
    "name": "ipython",
    "version": 3
   },
   "file_extension": ".py",
   "mimetype": "text/x-python",
   "name": "python",
   "nbconvert_exporter": "python",
   "pygments_lexer": "ipython3",
   "version": "3.7.16"
  }
 },
 "nbformat": 4,
 "nbformat_minor": 5
}
